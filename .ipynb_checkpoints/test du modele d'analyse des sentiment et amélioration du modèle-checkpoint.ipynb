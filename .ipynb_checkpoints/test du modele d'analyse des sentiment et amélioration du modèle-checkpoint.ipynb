{
 "cells": [
  {
   "cell_type": "code",
   "execution_count": 13,
   "metadata": {},
   "outputs": [
    {
     "name": "stdout",
     "output_type": "stream",
     "text": [
      "Requirement already up-to-date: scikit-learn in c:\\users\\utilisateur\\anaconda3\\lib\\site-packages (0.24.1)\n",
      "Requirement already satisfied, skipping upgrade: threadpoolctl>=2.0.0 in c:\\users\\utilisateur\\anaconda3\\lib\\site-packages (from scikit-learn) (2.1.0)\n",
      "Requirement already satisfied, skipping upgrade: scipy>=0.19.1 in c:\\users\\utilisateur\\anaconda3\\lib\\site-packages (from scikit-learn) (1.4.1)\n",
      "Requirement already satisfied, skipping upgrade: joblib>=0.11 in c:\\users\\utilisateur\\anaconda3\\lib\\site-packages (from scikit-learn) (0.14.1)\n",
      "Requirement already satisfied, skipping upgrade: numpy>=1.13.3 in c:\\users\\utilisateur\\anaconda3\\lib\\site-packages (from scikit-learn) (1.18.1)\n",
      "Note: you may need to restart the kernel to use updated packages.\n"
     ]
    }
   ],
   "source": [
    "pip install --upgrade scikit-learn"
   ]
  },
  {
   "cell_type": "code",
   "execution_count": 39,
   "metadata": {},
   "outputs": [],
   "source": [
    "import joblib\n",
    "import pandas as pd \n",
    "from sklearn.model_selection import train_test_split \n",
    "from sklearn.metrics import roc_auc_score, f1_score,classification_report\n",
    "from sklearn.model_selection import train_test_split \n",
    "from sklearn.model_selection import GridSearchCV\n",
    "from sklearn.pipeline import Pipeline\n",
    "from sklearn.feature_extraction.text import TfidfVectorizer\n",
    "from sklearn.svm import SVC\n",
    "from joblib import dump"
   ]
  },
  {
   "cell_type": "code",
   "execution_count": 40,
   "metadata": {},
   "outputs": [
    {
     "data": {
      "text/plain": [
       "Pipeline(steps=[('tfidf', TfidfVectorizer()),\n",
       "                ('clf', SVC(C=1000, gamma=0.001))])"
      ]
     },
     "execution_count": 40,
     "metadata": {},
     "output_type": "execute_result"
    }
   ],
   "source": [
    "#Import de la pipeline utilisée dans l'API et du jeu de données contenant les commentaites. Affichage de la\n",
    "#pipeline pour étudier son contenu\n",
    "\n",
    "modele=joblib.load(\"sentiment_pipe.joblib\")\n",
    "df=pd.read_csv(\"comments_train.csv\")\n",
    "modele"
   ]
  },
  {
   "cell_type": "code",
   "execution_count": 41,
   "metadata": {},
   "outputs": [
    {
     "data": {
      "text/plain": [
       "Positive    1019\n",
       "Negative     598\n",
       "Name: sentiment, dtype: int64"
      ]
     },
     "execution_count": 41,
     "metadata": {},
     "output_type": "execute_result"
    }
   ],
   "source": [
    "#affichage du dataset, on voit un net déséquilibre entre les réponse\n",
    "#positive et négéative\n",
    "df = pd.read_csv('comments_train.csv')\n",
    "X,y = df['comment'], df['sentiment'] \n",
    "df[\"sentiment\"].value_counts()"
   ]
  },
  {
   "cell_type": "code",
   "execution_count": 43,
   "metadata": {},
   "outputs": [
    {
     "name": "stdout",
     "output_type": "stream",
     "text": [
      "AUC : 0.7220142706749327\n",
      "\n",
      "              precision    recall  f1-score   support\n",
      "\n",
      "           0       0.26      0.76      0.39       206\n",
      "           1       0.95      0.69      0.80      1411\n",
      "\n",
      "    accuracy                           0.70      1617\n",
      "   macro avg       0.61      0.72      0.59      1617\n",
      "weighted avg       0.86      0.70      0.75      1617\n",
      "\n"
     ]
    }
   ],
   "source": [
    "#on définit ypred et on labellise de manière binaire\n",
    "#la colonne sentiment du dataset, pour pouvoir faire l'auc\n",
    "y_pred = modele.predict(X)\n",
    "y=df[\"sentiment\"].replace({\"Positive\":1, \"Negative\":0}).values\n",
    "resume=classification_report(y_pred, y)\n",
    "roc_score=roc_auc_score(y_pred, y)\n",
    "print(\"AUC : {}\".format(roc_score))\n",
    "print()\n",
    "print(resume)"
   ]
  },
  {
   "cell_type": "code",
   "execution_count": null,
   "metadata": {},
   "outputs": [],
   "source": [
    "#on peut voir ci-dessu le score optenu avec \n",
    "#les réponse négative étant mal reconnus contrairement au positive"
   ]
  },
  {
   "cell_type": "code",
   "execution_count": 44,
   "metadata": {},
   "outputs": [
    {
     "name": "stdout",
     "output_type": "stream",
     "text": [
      "              precision    recall  f1-score   support\n",
      "\n",
      "           0       0.85      0.74      0.79       202\n",
      "           1       0.85      0.92      0.89       332\n",
      "\n",
      "    accuracy                           0.85       534\n",
      "   macro avg       0.85      0.83      0.84       534\n",
      "weighted avg       0.85      0.85      0.85       534\n",
      "\n",
      "AUC :  0.9279046880591674\n"
     ]
    }
   ],
   "source": [
    "#on réentraine le modèle a partir du dataset\n",
    "X_train, X_test, y_train, y_test = train_test_split(X, y, test_size=0.33, random_state=42)\n",
    "modele.fit(X_train,y_train)\n",
    "y_pred=modele.predict(X_test)\n",
    "print(classification_report(y_test, y_pred,zero_division=1))\n",
    "y_pred2=modele.decision_function(X_test)\n",
    "roc_score=roc_auc_score(y_test,y_pred2)\n",
    "print(\"AUC : \",roc_score)"
   ]
  },
  {
   "cell_type": "code",
   "execution_count": 46,
   "metadata": {},
   "outputs": [],
   "source": [
    "#on peut voir que le réentrainement a amélioré la prediction, \n",
    "#notament sur la prédiction négative marqué par 0 ainsi que l'auc"
   ]
  },
  {
   "cell_type": "code",
   "execution_count": 47,
   "metadata": {},
   "outputs": [
    {
     "data": {
      "text/plain": [
       "{'memory': None,\n",
       " 'steps': [('tfidf', TfidfVectorizer()), ('clf', SVC(C=1000, gamma=0.001))],\n",
       " 'verbose': False,\n",
       " 'tfidf': TfidfVectorizer(),\n",
       " 'clf': SVC(C=1000, gamma=0.001),\n",
       " 'tfidf__analyzer': 'word',\n",
       " 'tfidf__binary': False,\n",
       " 'tfidf__decode_error': 'strict',\n",
       " 'tfidf__dtype': numpy.float64,\n",
       " 'tfidf__encoding': 'utf-8',\n",
       " 'tfidf__input': 'content',\n",
       " 'tfidf__lowercase': True,\n",
       " 'tfidf__max_df': 1.0,\n",
       " 'tfidf__max_features': None,\n",
       " 'tfidf__min_df': 1,\n",
       " 'tfidf__ngram_range': (1, 1),\n",
       " 'tfidf__norm': 'l2',\n",
       " 'tfidf__preprocessor': None,\n",
       " 'tfidf__smooth_idf': True,\n",
       " 'tfidf__stop_words': None,\n",
       " 'tfidf__strip_accents': None,\n",
       " 'tfidf__sublinear_tf': False,\n",
       " 'tfidf__token_pattern': '(?u)\\\\b\\\\w\\\\w+\\\\b',\n",
       " 'tfidf__tokenizer': None,\n",
       " 'tfidf__use_idf': True,\n",
       " 'tfidf__vocabulary': None,\n",
       " 'clf__C': 1000,\n",
       " 'clf__break_ties': False,\n",
       " 'clf__cache_size': 200,\n",
       " 'clf__class_weight': None,\n",
       " 'clf__coef0': 0.0,\n",
       " 'clf__decision_function_shape': 'ovr',\n",
       " 'clf__degree': 3,\n",
       " 'clf__gamma': 0.001,\n",
       " 'clf__kernel': 'rbf',\n",
       " 'clf__max_iter': -1,\n",
       " 'clf__probability': False,\n",
       " 'clf__random_state': None,\n",
       " 'clf__shrinking': True,\n",
       " 'clf__tol': 0.001,\n",
       " 'clf__verbose': False}"
      ]
     },
     "execution_count": 47,
     "metadata": {},
     "output_type": "execute_result"
    }
   ],
   "source": [
    "# Afin de permettre l'amélioration de la pipeline, on affiche ses paramètres. \n",
    "\n",
    "modele.get_params()"
   ]
  },
  {
   "cell_type": "code",
   "execution_count": 50,
   "metadata": {},
   "outputs": [
    {
     "name": "stdout",
     "output_type": "stream",
     "text": [
      "Fitting 5 folds for each of 27 candidates, totalling 135 fits\n",
      "[CV 1/5] END clf__C=1000, clf__gamma=0.001, clf__kernel=sigmoid, clf__random_state=42; total time=   0.4s\n",
      "[CV 2/5] END clf__C=1000, clf__gamma=0.001, clf__kernel=sigmoid, clf__random_state=42; total time=   0.3s\n",
      "[CV 3/5] END clf__C=1000, clf__gamma=0.001, clf__kernel=sigmoid, clf__random_state=42; total time=   0.3s\n",
      "[CV 4/5] END clf__C=1000, clf__gamma=0.001, clf__kernel=sigmoid, clf__random_state=42; total time=   0.6s\n",
      "[CV 5/5] END clf__C=1000, clf__gamma=0.001, clf__kernel=sigmoid, clf__random_state=42; total time=   0.2s\n",
      "[CV 1/5] END clf__C=1000, clf__gamma=0.001, clf__kernel=rbf, clf__random_state=42; total time=   0.3s\n",
      "[CV 2/5] END clf__C=1000, clf__gamma=0.001, clf__kernel=rbf, clf__random_state=42; total time=   0.3s\n",
      "[CV 3/5] END clf__C=1000, clf__gamma=0.001, clf__kernel=rbf, clf__random_state=42; total time=   0.3s\n",
      "[CV 4/5] END clf__C=1000, clf__gamma=0.001, clf__kernel=rbf, clf__random_state=42; total time=   0.3s\n",
      "[CV 5/5] END clf__C=1000, clf__gamma=0.001, clf__kernel=rbf, clf__random_state=42; total time=   0.3s\n",
      "[CV 1/5] END clf__C=1000, clf__gamma=0.001, clf__kernel=poly, clf__random_state=42; total time=   0.2s\n",
      "[CV 2/5] END clf__C=1000, clf__gamma=0.001, clf__kernel=poly, clf__random_state=42; total time=   0.2s\n",
      "[CV 3/5] END clf__C=1000, clf__gamma=0.001, clf__kernel=poly, clf__random_state=42; total time=   0.2s\n",
      "[CV 4/5] END clf__C=1000, clf__gamma=0.001, clf__kernel=poly, clf__random_state=42; total time=   0.2s\n",
      "[CV 5/5] END clf__C=1000, clf__gamma=0.001, clf__kernel=poly, clf__random_state=42; total time=   0.2s\n",
      "[CV 1/5] END clf__C=1000, clf__gamma=0.01, clf__kernel=sigmoid, clf__random_state=42; total time=   0.3s\n",
      "[CV 2/5] END clf__C=1000, clf__gamma=0.01, clf__kernel=sigmoid, clf__random_state=42; total time=   0.4s\n",
      "[CV 3/5] END clf__C=1000, clf__gamma=0.01, clf__kernel=sigmoid, clf__random_state=42; total time=   0.3s\n",
      "[CV 4/5] END clf__C=1000, clf__gamma=0.01, clf__kernel=sigmoid, clf__random_state=42; total time=   0.3s\n",
      "[CV 5/5] END clf__C=1000, clf__gamma=0.01, clf__kernel=sigmoid, clf__random_state=42; total time=   0.4s\n",
      "[CV 1/5] END clf__C=1000, clf__gamma=0.01, clf__kernel=rbf, clf__random_state=42; total time=   0.4s\n",
      "[CV 2/5] END clf__C=1000, clf__gamma=0.01, clf__kernel=rbf, clf__random_state=42; total time=   0.5s\n",
      "[CV 3/5] END clf__C=1000, clf__gamma=0.01, clf__kernel=rbf, clf__random_state=42; total time=   0.4s\n",
      "[CV 4/5] END clf__C=1000, clf__gamma=0.01, clf__kernel=rbf, clf__random_state=42; total time=   0.3s\n",
      "[CV 5/5] END clf__C=1000, clf__gamma=0.01, clf__kernel=rbf, clf__random_state=42; total time=   0.3s\n",
      "[CV 1/5] END clf__C=1000, clf__gamma=0.01, clf__kernel=poly, clf__random_state=42; total time=   0.3s\n",
      "[CV 2/5] END clf__C=1000, clf__gamma=0.01, clf__kernel=poly, clf__random_state=42; total time=   0.3s\n",
      "[CV 3/5] END clf__C=1000, clf__gamma=0.01, clf__kernel=poly, clf__random_state=42; total time=   0.3s\n",
      "[CV 4/5] END clf__C=1000, clf__gamma=0.01, clf__kernel=poly, clf__random_state=42; total time=   0.3s\n",
      "[CV 5/5] END clf__C=1000, clf__gamma=0.01, clf__kernel=poly, clf__random_state=42; total time=   0.3s\n",
      "[CV 1/5] END clf__C=1000, clf__gamma=0.1, clf__kernel=sigmoid, clf__random_state=42; total time=   0.4s\n",
      "[CV 2/5] END clf__C=1000, clf__gamma=0.1, clf__kernel=sigmoid, clf__random_state=42; total time=   0.3s\n",
      "[CV 3/5] END clf__C=1000, clf__gamma=0.1, clf__kernel=sigmoid, clf__random_state=42; total time=   0.3s\n",
      "[CV 4/5] END clf__C=1000, clf__gamma=0.1, clf__kernel=sigmoid, clf__random_state=42; total time=   0.3s\n",
      "[CV 5/5] END clf__C=1000, clf__gamma=0.1, clf__kernel=sigmoid, clf__random_state=42; total time=   0.3s\n",
      "[CV 1/5] END clf__C=1000, clf__gamma=0.1, clf__kernel=rbf, clf__random_state=42; total time=   0.3s\n",
      "[CV 2/5] END clf__C=1000, clf__gamma=0.1, clf__kernel=rbf, clf__random_state=42; total time=   0.3s\n",
      "[CV 3/5] END clf__C=1000, clf__gamma=0.1, clf__kernel=rbf, clf__random_state=42; total time=   0.4s\n",
      "[CV 4/5] END clf__C=1000, clf__gamma=0.1, clf__kernel=rbf, clf__random_state=42; total time=   0.3s\n",
      "[CV 5/5] END clf__C=1000, clf__gamma=0.1, clf__kernel=rbf, clf__random_state=42; total time=   0.4s\n",
      "[CV 1/5] END clf__C=1000, clf__gamma=0.1, clf__kernel=poly, clf__random_state=42; total time=   0.4s\n",
      "[CV 2/5] END clf__C=1000, clf__gamma=0.1, clf__kernel=poly, clf__random_state=42; total time=   0.4s\n",
      "[CV 3/5] END clf__C=1000, clf__gamma=0.1, clf__kernel=poly, clf__random_state=42; total time=   0.4s\n",
      "[CV 4/5] END clf__C=1000, clf__gamma=0.1, clf__kernel=poly, clf__random_state=42; total time=   0.4s\n",
      "[CV 5/5] END clf__C=1000, clf__gamma=0.1, clf__kernel=poly, clf__random_state=42; total time=   0.5s\n",
      "[CV 1/5] END clf__C=1000000.0, clf__gamma=0.001, clf__kernel=sigmoid, clf__random_state=42; total time=   0.4s\n",
      "[CV 2/5] END clf__C=1000000.0, clf__gamma=0.001, clf__kernel=sigmoid, clf__random_state=42; total time=   0.4s\n",
      "[CV 3/5] END clf__C=1000000.0, clf__gamma=0.001, clf__kernel=sigmoid, clf__random_state=42; total time=   0.8s\n",
      "[CV 4/5] END clf__C=1000000.0, clf__gamma=0.001, clf__kernel=sigmoid, clf__random_state=42; total time=   0.6s\n",
      "[CV 5/5] END clf__C=1000000.0, clf__gamma=0.001, clf__kernel=sigmoid, clf__random_state=42; total time=   0.4s\n",
      "[CV 1/5] END clf__C=1000000.0, clf__gamma=0.001, clf__kernel=rbf, clf__random_state=42; total time=   0.4s\n",
      "[CV 2/5] END clf__C=1000000.0, clf__gamma=0.001, clf__kernel=rbf, clf__random_state=42; total time=   0.4s\n",
      "[CV 3/5] END clf__C=1000000.0, clf__gamma=0.001, clf__kernel=rbf, clf__random_state=42; total time=   0.4s\n",
      "[CV 4/5] END clf__C=1000000.0, clf__gamma=0.001, clf__kernel=rbf, clf__random_state=42; total time=   0.3s\n",
      "[CV 5/5] END clf__C=1000000.0, clf__gamma=0.001, clf__kernel=rbf, clf__random_state=42; total time=   0.4s\n",
      "[CV 1/5] END clf__C=1000000.0, clf__gamma=0.001, clf__kernel=poly, clf__random_state=42; total time=   0.4s\n",
      "[CV 2/5] END clf__C=1000000.0, clf__gamma=0.001, clf__kernel=poly, clf__random_state=42; total time=   0.5s\n",
      "[CV 3/5] END clf__C=1000000.0, clf__gamma=0.001, clf__kernel=poly, clf__random_state=42; total time=   1.2s\n",
      "[CV 4/5] END clf__C=1000000.0, clf__gamma=0.001, clf__kernel=poly, clf__random_state=42; total time=   0.5s\n",
      "[CV 5/5] END clf__C=1000000.0, clf__gamma=0.001, clf__kernel=poly, clf__random_state=42; total time=   0.7s\n",
      "[CV 1/5] END clf__C=1000000.0, clf__gamma=0.01, clf__kernel=sigmoid, clf__random_state=42; total time=   0.6s\n",
      "[CV 2/5] END clf__C=1000000.0, clf__gamma=0.01, clf__kernel=sigmoid, clf__random_state=42; total time=   0.4s\n",
      "[CV 3/5] END clf__C=1000000.0, clf__gamma=0.01, clf__kernel=sigmoid, clf__random_state=42; total time=   0.4s\n",
      "[CV 4/5] END clf__C=1000000.0, clf__gamma=0.01, clf__kernel=sigmoid, clf__random_state=42; total time=   0.3s\n",
      "[CV 5/5] END clf__C=1000000.0, clf__gamma=0.01, clf__kernel=sigmoid, clf__random_state=42; total time=   0.6s\n",
      "[CV 1/5] END clf__C=1000000.0, clf__gamma=0.01, clf__kernel=rbf, clf__random_state=42; total time=   0.3s\n",
      "[CV 2/5] END clf__C=1000000.0, clf__gamma=0.01, clf__kernel=rbf, clf__random_state=42; total time=   0.4s\n",
      "[CV 3/5] END clf__C=1000000.0, clf__gamma=0.01, clf__kernel=rbf, clf__random_state=42; total time=   0.4s\n",
      "[CV 4/5] END clf__C=1000000.0, clf__gamma=0.01, clf__kernel=rbf, clf__random_state=42; total time=   0.4s\n",
      "[CV 5/5] END clf__C=1000000.0, clf__gamma=0.01, clf__kernel=rbf, clf__random_state=42; total time=   0.4s\n",
      "[CV 1/5] END clf__C=1000000.0, clf__gamma=0.01, clf__kernel=poly, clf__random_state=42; total time=   0.4s\n",
      "[CV 2/5] END clf__C=1000000.0, clf__gamma=0.01, clf__kernel=poly, clf__random_state=42; total time=   0.4s\n",
      "[CV 3/5] END clf__C=1000000.0, clf__gamma=0.01, clf__kernel=poly, clf__random_state=42; total time=   0.4s\n",
      "[CV 4/5] END clf__C=1000000.0, clf__gamma=0.01, clf__kernel=poly, clf__random_state=42; total time=   0.4s\n",
      "[CV 5/5] END clf__C=1000000.0, clf__gamma=0.01, clf__kernel=poly, clf__random_state=42; total time=   0.4s\n",
      "[CV 1/5] END clf__C=1000000.0, clf__gamma=0.1, clf__kernel=sigmoid, clf__random_state=42; total time=   0.4s\n",
      "[CV 2/5] END clf__C=1000000.0, clf__gamma=0.1, clf__kernel=sigmoid, clf__random_state=42; total time=   0.3s\n",
      "[CV 3/5] END clf__C=1000000.0, clf__gamma=0.1, clf__kernel=sigmoid, clf__random_state=42; total time=   0.4s\n"
     ]
    },
    {
     "name": "stdout",
     "output_type": "stream",
     "text": [
      "[CV 4/5] END clf__C=1000000.0, clf__gamma=0.1, clf__kernel=sigmoid, clf__random_state=42; total time=   0.3s\n",
      "[CV 5/5] END clf__C=1000000.0, clf__gamma=0.1, clf__kernel=sigmoid, clf__random_state=42; total time=   0.4s\n",
      "[CV 1/5] END clf__C=1000000.0, clf__gamma=0.1, clf__kernel=rbf, clf__random_state=42; total time=   0.4s\n",
      "[CV 2/5] END clf__C=1000000.0, clf__gamma=0.1, clf__kernel=rbf, clf__random_state=42; total time=   0.4s\n",
      "[CV 3/5] END clf__C=1000000.0, clf__gamma=0.1, clf__kernel=rbf, clf__random_state=42; total time=   0.4s\n",
      "[CV 4/5] END clf__C=1000000.0, clf__gamma=0.1, clf__kernel=rbf, clf__random_state=42; total time=   0.3s\n",
      "[CV 5/5] END clf__C=1000000.0, clf__gamma=0.1, clf__kernel=rbf, clf__random_state=42; total time=   0.4s\n",
      "[CV 1/5] END clf__C=1000000.0, clf__gamma=0.1, clf__kernel=poly, clf__random_state=42; total time=   0.4s\n",
      "[CV 2/5] END clf__C=1000000.0, clf__gamma=0.1, clf__kernel=poly, clf__random_state=42; total time=   0.4s\n",
      "[CV 3/5] END clf__C=1000000.0, clf__gamma=0.1, clf__kernel=poly, clf__random_state=42; total time=   0.9s\n",
      "[CV 4/5] END clf__C=1000000.0, clf__gamma=0.1, clf__kernel=poly, clf__random_state=42; total time=   0.4s\n",
      "[CV 5/5] END clf__C=1000000.0, clf__gamma=0.1, clf__kernel=poly, clf__random_state=42; total time=   0.3s\n",
      "[CV 1/5] END clf__C=10, clf__gamma=0.001, clf__kernel=sigmoid, clf__random_state=42; total time=   0.3s\n",
      "[CV 2/5] END clf__C=10, clf__gamma=0.001, clf__kernel=sigmoid, clf__random_state=42; total time=   0.3s\n",
      "[CV 3/5] END clf__C=10, clf__gamma=0.001, clf__kernel=sigmoid, clf__random_state=42; total time=   0.4s\n",
      "[CV 4/5] END clf__C=10, clf__gamma=0.001, clf__kernel=sigmoid, clf__random_state=42; total time=   0.4s\n",
      "[CV 5/5] END clf__C=10, clf__gamma=0.001, clf__kernel=sigmoid, clf__random_state=42; total time=   0.4s\n",
      "[CV 1/5] END clf__C=10, clf__gamma=0.001, clf__kernel=rbf, clf__random_state=42; total time=   0.4s\n",
      "[CV 2/5] END clf__C=10, clf__gamma=0.001, clf__kernel=rbf, clf__random_state=42; total time=   0.3s\n",
      "[CV 3/5] END clf__C=10, clf__gamma=0.001, clf__kernel=rbf, clf__random_state=42; total time=   0.3s\n",
      "[CV 4/5] END clf__C=10, clf__gamma=0.001, clf__kernel=rbf, clf__random_state=42; total time=   0.4s\n",
      "[CV 5/5] END clf__C=10, clf__gamma=0.001, clf__kernel=rbf, clf__random_state=42; total time=   0.3s\n",
      "[CV 1/5] END clf__C=10, clf__gamma=0.001, clf__kernel=poly, clf__random_state=42; total time=   0.3s\n",
      "[CV 2/5] END clf__C=10, clf__gamma=0.001, clf__kernel=poly, clf__random_state=42; total time=   0.3s\n",
      "[CV 3/5] END clf__C=10, clf__gamma=0.001, clf__kernel=poly, clf__random_state=42; total time=   0.3s\n",
      "[CV 4/5] END clf__C=10, clf__gamma=0.001, clf__kernel=poly, clf__random_state=42; total time=   0.3s\n",
      "[CV 5/5] END clf__C=10, clf__gamma=0.001, clf__kernel=poly, clf__random_state=42; total time=   0.3s\n",
      "[CV 1/5] END clf__C=10, clf__gamma=0.01, clf__kernel=sigmoid, clf__random_state=42; total time=   0.3s\n",
      "[CV 2/5] END clf__C=10, clf__gamma=0.01, clf__kernel=sigmoid, clf__random_state=42; total time=   0.3s\n",
      "[CV 3/5] END clf__C=10, clf__gamma=0.01, clf__kernel=sigmoid, clf__random_state=42; total time=   0.3s\n",
      "[CV 4/5] END clf__C=10, clf__gamma=0.01, clf__kernel=sigmoid, clf__random_state=42; total time=   0.3s\n",
      "[CV 5/5] END clf__C=10, clf__gamma=0.01, clf__kernel=sigmoid, clf__random_state=42; total time=   0.3s\n",
      "[CV 1/5] END clf__C=10, clf__gamma=0.01, clf__kernel=rbf, clf__random_state=42; total time=   0.3s\n",
      "[CV 2/5] END clf__C=10, clf__gamma=0.01, clf__kernel=rbf, clf__random_state=42; total time=   0.3s\n",
      "[CV 3/5] END clf__C=10, clf__gamma=0.01, clf__kernel=rbf, clf__random_state=42; total time=   0.3s\n",
      "[CV 4/5] END clf__C=10, clf__gamma=0.01, clf__kernel=rbf, clf__random_state=42; total time=   0.3s\n",
      "[CV 5/5] END clf__C=10, clf__gamma=0.01, clf__kernel=rbf, clf__random_state=42; total time=   0.3s\n",
      "[CV 1/5] END clf__C=10, clf__gamma=0.01, clf__kernel=poly, clf__random_state=42; total time=   0.3s\n",
      "[CV 2/5] END clf__C=10, clf__gamma=0.01, clf__kernel=poly, clf__random_state=42; total time=   0.3s\n",
      "[CV 3/5] END clf__C=10, clf__gamma=0.01, clf__kernel=poly, clf__random_state=42; total time=   0.3s\n",
      "[CV 4/5] END clf__C=10, clf__gamma=0.01, clf__kernel=poly, clf__random_state=42; total time=   0.3s\n",
      "[CV 5/5] END clf__C=10, clf__gamma=0.01, clf__kernel=poly, clf__random_state=42; total time=   0.3s\n",
      "[CV 1/5] END clf__C=10, clf__gamma=0.1, clf__kernel=sigmoid, clf__random_state=42; total time=   0.2s\n",
      "[CV 2/5] END clf__C=10, clf__gamma=0.1, clf__kernel=sigmoid, clf__random_state=42; total time=   0.3s\n",
      "[CV 3/5] END clf__C=10, clf__gamma=0.1, clf__kernel=sigmoid, clf__random_state=42; total time=   0.4s\n",
      "[CV 4/5] END clf__C=10, clf__gamma=0.1, clf__kernel=sigmoid, clf__random_state=42; total time=   0.4s\n",
      "[CV 5/5] END clf__C=10, clf__gamma=0.1, clf__kernel=sigmoid, clf__random_state=42; total time=   0.3s\n",
      "[CV 1/5] END clf__C=10, clf__gamma=0.1, clf__kernel=rbf, clf__random_state=42; total time=   0.3s\n",
      "[CV 2/5] END clf__C=10, clf__gamma=0.1, clf__kernel=rbf, clf__random_state=42; total time=   0.4s\n",
      "[CV 3/5] END clf__C=10, clf__gamma=0.1, clf__kernel=rbf, clf__random_state=42; total time=   0.4s\n",
      "[CV 4/5] END clf__C=10, clf__gamma=0.1, clf__kernel=rbf, clf__random_state=42; total time=   0.4s\n",
      "[CV 5/5] END clf__C=10, clf__gamma=0.1, clf__kernel=rbf, clf__random_state=42; total time=   0.4s\n",
      "[CV 1/5] END clf__C=10, clf__gamma=0.1, clf__kernel=poly, clf__random_state=42; total time=   0.6s\n",
      "[CV 2/5] END clf__C=10, clf__gamma=0.1, clf__kernel=poly, clf__random_state=42; total time=   0.4s\n",
      "[CV 3/5] END clf__C=10, clf__gamma=0.1, clf__kernel=poly, clf__random_state=42; total time=   0.4s\n",
      "[CV 4/5] END clf__C=10, clf__gamma=0.1, clf__kernel=poly, clf__random_state=42; total time=   0.4s\n",
      "[CV 5/5] END clf__C=10, clf__gamma=0.1, clf__kernel=poly, clf__random_state=42; total time=   0.4s\n",
      "{'clf__C': 1000, 'clf__gamma': 0.001, 'clf__kernel': 'sigmoid', 'clf__random_state': 42}\n",
      "les résultats obtenus pour les métriques sont : \n",
      "              precision    recall  f1-score   support\n",
      "\n",
      "           0       0.85      0.74      0.79       202\n",
      "           1       0.85      0.92      0.89       332\n",
      "\n",
      "    accuracy                           0.85       534\n",
      "   macro avg       0.85      0.83      0.84       534\n",
      "weighted avg       0.85      0.85      0.85       534\n",
      "\n",
      "AUC :  0.930320291065251\n"
     ]
    }
   ],
   "source": [
    "#pour améliorer le modèle on fait une gridSearch sur ses paramètre, \n",
    "#afin de trouver quel sont les meilleur paramètre pour optimiser le modèle\n",
    "tuned_parameters = { \n",
    "    \"clf__kernel\": [\"sigmoid\",\"rbf\",\"poly\"],\n",
    "    \"clf__C\" : [1000,10e5,10],\n",
    "    \"clf__gamma\" : [0.001,10e-3,0.1],\n",
    "    \"clf__random_state\":[42]}\n",
    "clf = GridSearchCV(\n",
    "        modele, tuned_parameters, n_jobs=1, verbose=3)\n",
    "clf.fit(X_train, y_train)\n",
    "\n",
    "parametre_optimale = clf.best_params_\n",
    "print(parametre_optimale)\n",
    "\n",
    "print(\"les résultats obtenus pour les métriques sont : \")\n",
    "y_pred=modele.predict(X_test)\n",
    "print(classification_report(y_test, y_pred,zero_division=1))\n",
    "y_pred2=clf.decision_function(X_test)\n",
    "roc_score=roc_auc_score(y_test,y_pred2)\n",
    "print(\"AUC : \",roc_score)\n"
   ]
  },
  {
   "cell_type": "code",
   "execution_count": 51,
   "metadata": {},
   "outputs": [
    {
     "name": "stdout",
     "output_type": "stream",
     "text": [
      "Pipeline(steps=[('tfidf', TfidfVectorizer()),\n",
      "                ('clf', SVC(C=1000, gamma=0.001))])\n",
      "{'clf__C': 1000, 'clf__gamma': 0.001, 'clf__kernel': 'sigmoid', 'clf__random_state': 42}\n"
     ]
    }
   ],
   "source": [
    "print(modele)\n",
    "print(parametre_optimale)"
   ]
  },
  {
   "cell_type": "code",
   "execution_count": 56,
   "metadata": {},
   "outputs": [
    {
     "name": "stdout",
     "output_type": "stream",
     "text": [
      "              precision    recall  f1-score   support\n",
      "\n",
      "           0       0.84      0.75      0.80       202\n",
      "           1       0.86      0.92      0.89       332\n",
      "\n",
      "    accuracy                           0.85       534\n",
      "   macro avg       0.85      0.83      0.84       534\n",
      "weighted avg       0.85      0.85      0.85       534\n",
      "\n",
      "AUC :  0.834068949063581\n",
      "AUC avec y_pred2 :  0.930320291065251\n"
     ]
    }
   ],
   "source": [
    "#on voit ci-dessu les meilleur paramètre\n",
    "#on peut donc créer une nouvelle pipeline en se basant dessus\n",
    "#pour améliorer le modèle\n",
    "\n",
    "modele_opti = Pipeline(steps=[('tfidf', TfidfVectorizer()),\n",
    "                ('clf', SVC(C=1000, kernel=\"sigmoid\", gamma=0.001, random_state = 42))])\n",
    "\n",
    "modele_opti.fit(X_train, y_train)\n",
    "y_pred = modele_opti.predict(X_test)\n",
    "roc_score_1 = roc_auc_score(y_test, y_pred)\n",
    "print(classification_report(y_test, y_pred,zero_division=1))\n",
    "roc_score_2 = roc_auc_score(y_test, y_pred2)\n",
    "\n",
    "print (\"AUC : \", roc_score_1)\n",
    "print(\"AUC avec y_pred2 : \", roc_score_2)\n",
    "\n",
    "\n",
    "\n"
   ]
  },
  {
   "cell_type": "code",
   "execution_count": 57,
   "metadata": {},
   "outputs": [],
   "source": [
    "#on peut voir que l'auc est amélioré, et qu'avec\n",
    "#la fonction de decision, on optien un score de 0,93"
   ]
  },
  {
   "cell_type": "code",
   "execution_count": 58,
   "metadata": {},
   "outputs": [
    {
     "data": {
      "text/plain": [
       "['pipeline_optimiser.joblib']"
      ]
     },
     "execution_count": 58,
     "metadata": {},
     "output_type": "execute_result"
    }
   ],
   "source": [
    "#sauvegarde de la nouvelle pipeline dans un nouveau fichier joblib\n",
    "dump(modele_opti, \"pipeline_optimiser.joblib\")"
   ]
  },
  {
   "cell_type": "code",
   "execution_count": 59,
   "metadata": {},
   "outputs": [
    {
     "name": "stdout",
     "output_type": "stream",
     "text": [
      "Collecting polyglot\n",
      "  Downloading polyglot-16.7.4.tar.gz (126 kB)\n",
      "Note: you may need to restart the kernel to use updated packages.\n"
     ]
    },
    {
     "name": "stderr",
     "output_type": "stream",
     "text": [
      "    ERROR: Command errored out with exit status 1:\n",
      "     command: 'C:\\Users\\utilisateur\\anaconda3\\python.exe' -c 'import sys, setuptools, tokenize; sys.argv[0] = '\"'\"'C:\\\\Users\\\\UTILIS~1\\\\AppData\\\\Local\\\\Temp\\\\pip-install-j77tz9ao\\\\polyglot\\\\setup.py'\"'\"'; __file__='\"'\"'C:\\\\Users\\\\UTILIS~1\\\\AppData\\\\Local\\\\Temp\\\\pip-install-j77tz9ao\\\\polyglot\\\\setup.py'\"'\"';f=getattr(tokenize, '\"'\"'open'\"'\"', open)(__file__);code=f.read().replace('\"'\"'\\r\\n'\"'\"', '\"'\"'\\n'\"'\"');f.close();exec(compile(code, __file__, '\"'\"'exec'\"'\"'))' egg_info --egg-base 'C:\\Users\\UTILIS~1\\AppData\\Local\\Temp\\pip-install-j77tz9ao\\polyglot\\pip-egg-info'\n",
      "         cwd: C:\\Users\\UTILIS~1\\AppData\\Local\\Temp\\pip-install-j77tz9ao\\polyglot\\\n",
      "    Complete output (7 lines):\n",
      "    Traceback (most recent call last):\n",
      "      File \"<string>\", line 1, in <module>\n",
      "      File \"C:\\Users\\UTILIS~1\\AppData\\Local\\Temp\\pip-install-j77tz9ao\\polyglot\\setup.py\", line 15, in <module>\n",
      "        readme = readme_file.read()\n",
      "      File \"C:\\Users\\utilisateur\\anaconda3\\lib\\encodings\\cp1252.py\", line 23, in decode\n",
      "        return codecs.charmap_decode(input,self.errors,decoding_table)[0]\n",
      "    UnicodeDecodeError: 'charmap' codec can't decode byte 0x81 in position 4941: character maps to <undefined>\n",
      "    ----------------------------------------\n",
      "ERROR: Command errored out with exit status 1: python setup.py egg_info Check the logs for full command output.\n"
     ]
    }
   ],
   "source": [
    "pip install polyglot"
   ]
  },
  {
   "cell_type": "code",
   "execution_count": 61,
   "metadata": {},
   "outputs": [
    {
     "name": "stdout",
     "output_type": "stream",
     "text": [
      "['00', '00h', '01', '03', '06', '08', '10', '100', '1000', '100000', '100g', '109', '11', '110', '114', '11h45', '12', '12460', '12e', '12h25', '13', '13eme', '13h', '13h30', '14', '145', '14h', '14h30', '15', '150', '15h', '15j', '15km', '16', '165', '16em', '17', '170', '172', '179', '17h40', '18', '185', '1880', '19', '190', '1900', '1920', '195', '19eme', '19h', '19h30', '1bol', '1er', '1ere', '1h', '1h30', '1h45', '1minutes', '20', '200', '2001', '2002', '2006', '2009', '200euros', '2011', '2012', '2014', '2015', '2016', '2017', '2018', '20h', '20h00', '20h30', '21', '2190', '21h30', '21h50', '22', '220', '222g', '22h', '22h00', '22h15', '22h25', '22h30', '23', '23h', '23h30', '24', '25', '26', '27', '27ème', '28', '280', '29', '2e', '2eme', '2emefois', '2emme', '2h30', '30', '300g', '30min', '30ème', '31', '310', '33', '330', '34', '35', '350', '36', '38', '39', '39v', '3cl', '3cm', '3e', '3h', '3h30', '3heures', '3légumes', '3ème', '40', '400', '42', '43', '45', '450', '48', '49', '49cl', '4ieme', '4ème', '50', '500', '52', '55', '59', '5min', '5plus', '5ème', '60', '600', '61', '62', '64', '650', '68', '69', '6e', '6eme', '6ieme', '70', '710', '75008', '78', '79', '7ème', '80', '800m', '85', '8eme', '8ème', '90', '900', '92', '9eme', '9h30', '9ème', 'abasourdi', 'abeille', 'abondance', 'abord', 'abordable', 'abordables', 'aborde', 'aboyer', 'abricot', 'abris', 'absence', 'absent', 'absolue', 'absolument', 'abus', 'abuse', 'accent', 'accepte', 'accepter', 'accepté', 'accessible', 'acceuil', 'acceuillis', 'acceuilservice', 'accommodées', 'accompagnait', 'accompagnant', 'accompagne', 'accompagnement', 'accompagnements', 'accompagnent', 'accompagner', 'accompagné', 'accompagnée', 'accompagnées', 'accompagnés', 'accord', 'accords', 'accueil', 'accueillant', 'accueillante', 'accueillantes', 'accueillants', 'accueille', 'accueillent', 'accueilli', 'accueillie', 'accueillies', 'accueillir', 'accueillis', 'accès', 'accéder', 'achalandé', 'achar', 'achat', 'acheter', 'acheté', 'achetés', 'achever', 'acidité', 'acidulé', 'acollée', 'actif', 'actualisée', 'actuelle', 'actuelles', 'adam', 'adaptent', 'adapté', 'adaptés', 'addition', 'adepte', 'adition', 'adjectif', 'adjuger', 'admettre', 'admiratif', 'admissible', 'adorable', 'adorables', 'adore', 'adorent', 'adoré', 'adossé', 'adresse', 'adresses', 'adressée', 'advisor', 'adéquat', 'affabilité', 'affaire', 'affaires', 'affamé', 'affecté', 'afficher', 'affiché', 'affichés', 'affinent', 'affirmer', 'affirmées', 'affluence', 'affordable', 'affèteries', 'afin', 'agacés', 'agapé', 'agar', 'agassé', 'agenda', 'agissait', 'agneau', 'agrandissent', 'agreable', 'agreablement', 'agreeable', 'agressive', 'agrumes', 'agréable', 'agréablement', 'agréables', 'agréableserveurs', 'agrémentée', 'ah', 'ai', 'aie', 'aient', 'aigu', 'ail', 'ailleurs', 'aimable', 'aimables', 'aimais', 'aime', 'aimer', 'aimerait', 'aimez', 'aimions', 'aimé', 'aimés', 'ainsi', 'aions', 'air', 'airs', 'aisance', 'aise', 'ait', 'ajouter', 'ajouté', 'ajoutées', 'ajuster', 'aki', 'al', 'alain', 'albion', 'alchimie', 'alcool', 'alegria', 'alentours', 'alerte', 'alexandre', 'algue', 'algues', 'aligne', 'alimentaire', 'alimentaires', 'aliments', 'all', 'allaient', 'allais', 'allait', 'allant', 'allechante', 'aller', 'allergies', 'allergique', 'allez', 'alliance', 'alliant', 'allie', 'allier', 'allions', 'allié', 'allons', 'allume', 'allé', 'alléchant', 'alléchante', 'alléchantes', 'allée', 'allés', 'alma', 'alors', 'alternative', 'alternatives', 'altèré', 'amabilité', 'amandes', 'amandiers', 'amateur', 'amateurs', 'amazonie', 'ambiance', 'ambiances', 'ambiant', 'ambiante', 'ame', 'amenés', 'amer', 'americains', 'amertume', 'amex', 'ami', 'amicale', 'amie', 'amies', 'amis', 'amispour', 'amitiés', 'amour', 'amoureux', 'amplement', 'amusante', 'amuse', 'amuses', 'amère', 'améliorations', 'améliorée', 'aménagements', 'aménagé', 'américain', 'américaine', 'an', 'ananas', 'anchois', 'ancien', 'ancienne', 'and', 'andouille', 'ange', 'anges', 'angevin', 'anglais', 'angleterre', 'anguille', 'angus', 'animé', 'ann', 'anne', 'anniversaire', 'anniversaires', 'annonce', 'annoncé', 'annoncées', 'annonçait', 'annulation', 'annulé', 'année', 'années', 'anomalie', 'anormal', 'ans', 'anti', 'antipasti', 'antipathique', 'antoine', 'anton', 'août', 'apaisante', 'apaisé', 'aperitif', 'apero', 'app', 'apparaitre', 'appareil', 'apparemment', 'apparence', 'apparences', 'appartant', 'appartement', 'appartenantba', 'appel', 'appelant', 'appelees', 'appeler', 'appelez', 'appellation', 'appelle', 'appellent', 'appelé', 'appercu', 'application', 'applique', 'appliquée', 'apporte', 'apportent', 'apporter', 'apporté', 'apportés', 'apprecie', 'apprehendais', 'apprenne', 'apprentie', 'appriori', 'approche', 'approprié', 'approximatif', 'appréciable', 'apprécie', 'apprécier', 'apprécions', 'apprécié', 'appréciée', 'appréciés', 'appréhension', 'appui', 'appuyant', 'appuyée', 'appétissant', 'appétissants', 'appétit', 'apres', 'après', 'apéritif', 'apéritifs', 'araignée', 'arc', 'arcane', 'argent', 'argenteuil', 'arménien', 'arnaque', 'arnaquer', 'arnaqué', 'arnaud', 'aromatisee', 'arome', 'arraché', 'arrangeant', 'arrangeants', 'arrangement', 'arrangé', 'arretter', 'arrivait', 'arrivant', 'arrive', 'arrivederci', 'arrivee', 'arrivent', 'arriver', 'arrives', 'arrivez', 'arrivons', 'arrivé', 'arrivée', 'arrivées', 'arrivés', 'arrière', 'arrogant', 'arrondissement', 'arrosé', 'arrêt', 'arrêtait', 'arrête', 'arrêter', 'arrêté', 'arrêtés', 'art', 'artichaut', 'artichauts', 'articulé', 'artifice', 'artificiels', 'artisanales', 'artiste', 'artistes', 'arts', 'arty', 'arôme', 'arômes', 'as', 'asap', 'asiatique', 'asiatiques', 'asiatisante', 'asie', 'asif', 'asperge', 'asperges', 'aspic', 'assaisonnement', 'assaisonnements', 'assaisonné', 'assaisonnés', 'assaut', 'assemblage', 'assemblages', 'asseoir', 'assez', 'assiette', 'assiettes', 'assis', 'assisté', 'association', 'associations', 'associer', 'associés', 'assortie', 'assortiment', 'assortiments', 'assortis', 'assurent', 'assurer', 'atelier', 'atmosphère', 'atours', 'atteindre', 'attend', 'attendais', 'attendait', 'attendant', 'attendent', 'attendez', 'attendions', 'attendons', 'attendre', 'attends', 'attendu', 'attendus', 'attente', 'attentes', 'attentif', 'attentifs', 'attention', 'attentionné', 'attentionnée', 'attentionnés', 'attentionnéun', 'attentions', 'atterri', 'attire', 'attiré', 'attirées', 'attirés', 'attiser', 'attitude', 'attractif', 'attractifs', 'attrape', 'attribué', 'attribuées', 'attribués', 'atypique', 'au', 'auberge', 'aubergines', 'aucum', 'aucun', 'aucune', 'audaces', 'audacieux', 'audieux', 'audrey', 'augmentation', 'augmenter', 'augurer', 'auguré', 'aujourd', 'auparavant', 'auprès', 'auquel', 'aura', 'aurai', 'aurais', 'aurait', 'aurez', 'aurions', 'aurons', 'auront', 'aussi', 'austère', 'autaient', 'autant', 'auteur', 'authentique', 'authentiques', 'automne', 'autorise', 'autour', 'autre', 'autres', 'auvergnats', 'auvergne', 'aux', 'avaient', 'avais', 'avaisi', 'avait', 'avalée', 'avance', 'avancée', 'avant', 'avantage', 'avarié', 'avce', 'avec', 'avenant', 'avenir', 'avent', 'aventure', 'aventurez', 'aversions', 'aveugle', 'aveyron', 'avez', 'avide', 'avion', 'avions', 'avis', 'avise', 'avises', 'avisplus', 'avisé', 'avisée', 'avisés', 'avoir', 'avon', 'avons', 'avont', 'avoue', 'avril', 'avère', 'avéré', 'avérée', 'ayant', 'ayons', 'aérien', 'aérienne', 'aériens', 'babines', 'bachir', 'bacon', 'bad', 'bagel', 'bagels', 'baguette', 'baies', 'baignant', 'baigné', 'baisser', 'baissé', 'bajhi', 'balade', 'balbutiant', 'ballade', 'balustrade', 'balzar', 'ban', 'banal', 'banale', 'banales', 'banalité', 'bancaire', 'bancaires', 'banctel', 'bannir', 'bao', 'baptiste', 'bar', 'barbue', 'bardolino', 'barman', 'barquette', 'barrage', 'bars', 'barème', 'bas', 'basant', 'base', 'bases', 'basic', 'basique', 'basiques', 'basmati', 'basque', 'basse', 'bastille', 'basés', 'bateau', 'batiment', 'battante', 'battent', 'bcp', 'beacoup', 'beau', 'beaucoup', 'beauté', 'beaux', 'beef', 'bel', 'belges', 'belle', 'belles', 'bemol', 'bercy', 'bernés', 'besoin', 'betterave', 'beuf', 'beurre', 'bichonné', 'bien', 'bienplus', 'bientot', 'bientôt', 'bienveillance', 'bienveillant', 'bienvenue', 'bienvenus', 'big', 'bijou', 'bilingue', 'bio', 'bios', 'bip', 'bis', 'biscuit', 'bisque', 'bistro', 'bistros', 'bistrot', 'bistrots', 'bitter', 'bizarre', 'bière', 'bières', 'bla', 'black', 'blague', 'blaguent', 'blagueur', 'blanc', 'blanche', 'blancs', 'blanquette', 'blend', 'bleu', 'bleues', 'bleuté', 'blindé', 'bling', 'bluffant', 'bluffée', 'blé', 'bo', 'bobo', 'bobun', 'bocaux', 'boeuf', 'bof', 'boire', 'bois', 'boise', 'boiseries', 'boisson', 'boissons', 'boites', 'bol', 'bolly', 'bollynan', 'bols', 'bon', 'bonheur', 'bonheurs', 'bonjour', 'bonne', 'bonnement', 'bonnes', 'bons', 'bonus', 'bord', 'boschman', 'bouche', 'bouches', 'bouchée', 'boucle', 'boucler', 'boudin', 'bouffe', 'bougies', 'bouillon', 'bouillons', 'boulanger', 'boulangerie', 'boulangers', 'boules', 'boulettes', 'boulevard', 'boulogne', 'boulot', 'bouquet', 'bouquets', 'bourget', 'bourgogne', 'bourratif', 'bourse', 'bout', 'boutary', 'bouteille', 'bouteilles', 'boutique', 'bouts', 'boyau', 'boîte', 'branché', 'bras', 'brasserie', 'brasseries', 'bravo', 'bravoplus', 'brebis', 'bref', 'brestois', 'bretagne', 'breton', 'bretonnes', 'brice', 'brigade', 'brigades', 'brillant', 'brin', 'brins', 'brio', 'brioches', 'brioché', 'brion', 'bristol', 'brochet', 'brochette', 'brochettes', 'brouillon', 'brua', 'bruit', 'bruitages', 'brulé', 'brulée', 'brulés', 'brunch', 'bruncher', 'brunché', 'brune', 'brunes', 'brut', 'bruxelles', 'bruyant', 'bruyante', 'bruyantes', 'bruyère', 'brésil', 'brésilienne', 'brûlée', 'budget', 'buffet', 'buffets', 'bun', 'buns', 'buono', 'burger', 'burgers', 'burrata', 'bus', 'but', 'butter', 'buvant', 'buzz', 'by', 'béatitude', 'bébé', 'bécassines', 'bémol', 'bénéficie', 'bœuf', 'ca', 'cabillaud', 'cacahuète', 'cacao', 'cacaotée', 'cache', 'cacher', 'caché', 'cadeau', 'cadre', 'cadres', 'cafard', 'cafe', 'café', 'cafétéria', 'cage', 'cagibi', 'cahotique', 'caille', 'cailles', 'caisse', 'cakes', 'calamars', 'cales', 'calibré', 'calme', 'calzone', 'cambodgien', 'cambodgienne', 'camembert', 'camouflé', 'campari', 'can', 'canard', 'candeborde', 'canette', 'canettes', 'canne', 'cannelle', 'cannelloni', 'cantine', 'caoutchouteuse', 'caoutchouteux', 'capable', 'capacité', 'capital', 'capitale', 'cappuccino', 'capter', 'car', 'caractère', 'caractériel', 'caractérise', 'caractérisé', 'carafe', 'carambar', 'caramel', 'carbonisée', 'carbonisés', 'cardamome', 'caricatural', 'caricature', 'carnassiers', 'carnet', 'carotte', 'carottes', 'carpaccio', 'carrefour', 'carré', 'carrée', 'carrées', 'carrément', 'carrés', 'carte', 'carteplus', 'cartes', 'carton', 'cas', 'cases', 'cash', 'cassant', 'casse', 'casser', 'castratophique', 'catalan', 'catastrophe', 'catastrophique', 'catelan', 'cathy', 'catégorie', 'catégorique', 'cauchemar', 'cause', 'cave', 'caviar', 'caviste', 'cb', 'ce', 'ceci', 'cela', 'celle', 'celles', 'celui', 'celà', 'cendrier', 'censé', 'centaines', 'centime', 'centre', 'cependant', 'cerise', 'cerises', 'cerisier', 'certain', 'certaine', 'certainement', 'certaines', 'certains', 'certe', 'certes', 'certificat', 'certifier', 'ces', 'cesse', 'cessé', 'cest', 'cet', 'cette', 'ceux', 'cezembre', 'chacun', 'chacune', 'chacunes', 'chaine', 'chaines', 'chair', 'chalance', 'chaland', 'chalereux', 'chaleuleuse', 'chaleur', 'chaleureuse', 'chaleureusement', 'chaleureux', 'chaleureuxavec', 'chambre', 'champagne', 'champagnes', 'champignons', 'champions', 'champs', 'chance', 'change', 'changement', 'changent', 'changer', 'changez', 'changé', 'chantaient', 'chanterelles', 'chanteurs', 'chanteuses', 'chantilly', 'chaotique', 'chapeau', 'chaque', 'charcuterie', 'charcuteries', 'chargé', 'charisme', 'charles', 'charmant', 'charmante', 'charmantes', 'charmants', 'charme', 'charmeront', 'charmé', 'chasse', 'chateaubriand', 'chaud', 'chaude', 'chaudes', 'chauds', 'chauffage', 'chauffages', 'chaussures', 'chaussée', 'chawarma', 'cheddar', 'cheesnan', 'chef', 'chefs', 'chelou', 'chemin', 'cheminplus', 'chemise', 'chene', 'chenin', 'cher', 'cherchait', 'cherchant', 'cherche', 'cherchent', 'chercher', 'cherchez', 'cherchions', 'chere', 'cheres', 'chers', 'chevreuil', 'chewing', 'chez', 'chic', 'chicago', 'chichi', 'chichis', 'chicken', 'chien', 'chiens', 'chiffre', 'chiffres', 'chiken', 'chine', 'chinois', 'chinoisants', 'chips', 'chique', 'chirashi', 'chloé', 'chocolat', 'choice', 'choisi', 'choisie', 'choisir', 'choisis', 'choisissez', 'choisissons', 'choisit', 'choix', 'chopin', 'choquant', 'choqué', 'chose', 'choses', 'chou', 'choucroute', 'chouette', 'choux', 'christian', 'chypriote', 'châtaignes', 'château', 'châteaux', 'chère', 'chères', 'chêne', 'ci', 'ciboulettes', 'cidre', 'cieltourne', 'cigare', 'cinq', 'cinquantaine', 'circuits', 'circulaire', 'citations', 'citron', 'citronelle', 'citronnelle', 'citrus', 'civet', 'clair', 'claire', 'clairement', 'claquer', 'classe', 'classement', 'classicisme', 'classique', 'classiques', 'classé', 'classées', 'claude', 'clean', 'clichy', 'client', 'clientele', 'clients', 'clientèle', 'climatisation', 'clochettes', 'clos', 'closerie', 'clou', 'cloud', 'club', 'clés', 'cnsm', 'cobea', 'cobéa', 'coche', 'cochon', 'cochonne', 'cocktail', 'cocktails', 'coco', 'cocon', 'cocooning', 'cocotte', 'coeur', 'cognac', 'coin', 'coincées', 'cois', 'colbert', 'coleslaw', 'collègue', 'collègues', 'collées', 'coloré', 'colorés', 'com', 'combinaison', 'combler', 'comblés', 'commandaria', 'commande', 'commander', 'commandes', 'commandions', 'commandons', 'commandé', 'commandée', 'comme', 'commence', 'commencer', 'commencé', 'commencée', 'commencés', 'comment', 'commentaire', 'commentaires', 'commentateurs', 'commenter', 'commenté', 'commençait', 'commençons', 'commercial', 'commerciale', 'commerçant', 'commerçants', 'commun', 'commune', 'communiquer', 'communiqués', 'compact', 'compagne', 'compagnie', 'compagnon', 'compagnons', 'comparaison', 'comparativement', 'comparé', 'compassion', 'competent', 'competitif', 'complet', 'complets', 'complexe', 'complexité', 'complique', 'compliqué', 'compliquée', 'complète', 'complètement', 'complétés', 'comportant', 'comporte', 'comportent', 'comporter', 'composer', 'composition', 'compositions', 'composé', 'composée', 'compote', 'compotée', 'comprenant', 'comprend', 'comprendre', 'comprends', 'comprenne', 'comprennent', 'compris', 'comprise', 'compromis', 'comptables', 'compte', 'compter', 'comptes', 'comptoir', 'compétences', 'compétent', 'compétente', 'compétitif', 'compétitifs', 'concentré', 'concept', 'concernant', 'concerne', 'concert', 'concevoir', 'concierge', 'conciergerie', 'concivial', 'conclu', 'concocte', 'concocter', 'concocté', 'concombre', 'concourait', 'concurrence', 'condiment', 'condition', 'conditions', 'conduire', 'conduit', 'conduits', 'confiance', 'confiante', 'confidentiel', 'configuration', 'confinée', 'confirmation', 'confirme', 'confirmer', 'confirmé', 'confirmée', 'confiseries', 'confit', 'confite', 'confiture', 'confondu', 'conforme', 'conformes', 'confort', 'confortable', 'confortablement', 'conforté', 'confrères', 'confusion', 'congelé', 'congelées', 'congrue', 'congrues', 'conjoint', 'conjointe', 'connais', 'connaissais', 'connaissance', 'connaissances', 'connaissant', 'connaissent', 'connaisseur', 'connaisseurs', 'connaissons', 'connait', 'connaît', 'connaître', 'connection', 'connexion', 'connu', 'connue', 'conquis', 'consacrer', 'consciencieux', 'conseil', 'conseille', 'conseiller', 'conseillons', 'conseillé', 'conseillée', 'conseillées', 'conseillés', 'conseils', 'conserve', 'considération', 'consistance', 'consistant', 'consiste', 'consommation', 'consommé', 'conspuent', 'constater', 'constaté', 'consterné', 'constitue', 'constituée', 'conséquence', 'contact', 'contemporain', 'contemporaine', 'content', 'contents', 'contenté', 'contenu', 'contexte', 'contient', 'continu', 'continue', 'continuellement', 'continuent', 'continuer', 'continuez', 'continué', 'contourner', 'contradiction', 'contraint', 'contraire', 'contrairement', 'contre', 'contrefaçon', 'contrefou', 'contretemps', 'contrevous', 'contribue', 'convaincues', 'convenable', 'convenables', 'convenant', 'convenir', 'conventionnelles', 'convenus', 'conversation', 'converser', 'conviction', 'conviendra', 'convient', 'convive', 'convives', 'convivial', 'conviviale', 'convivialité', 'convié', 'conçu', 'cookie', 'cookies', 'cool', 'coolplus', 'cools', 'copains', 'copie', 'copieuse', 'copieuses', 'copieux', 'copine', 'copines', 'coquillages', 'coquilles', 'coquillettes', 'coquine', 'corail', 'cordeau', 'cordial', 'cordialité', 'cordiaux', 'cordoue', 'coriandre', 'cornet', 'cornish', 'correct', 'correcte', 'correctement', 'correctes', 'correctesplus', 'corrects', 'correspond', 'correspondantes', 'correspondent', 'correspondre', 'corriger', 'corsent', 'corses', 'coréen', 'coréenne', 'coréens', 'cosi', 'cossu', 'cost', 'cosy', 'cote', 'cotta', 'coté', 'coucher', 'coucous', 'couleur', 'couleurs', 'coulis', 'couloir', 'coup', 'coupe', 'couper', 'coupes', 'couple', 'couples', 'coupole', 'coups', 'coupés', 'couraient', 'couramment', 'courbettes', 'courchevel', 'courez', 'courge', 'couronner', 'courrez', 'cours', 'course', 'court', 'courte', 'courtois', 'courtoise', 'courtoisie', 'courts', 'couscous', 'couteaux', 'coutumière', 'couverte', 'couverts', 'couvrir', 'coïncidence', 'crabe', 'craméeratéeimmangeable', 'cramés', 'crasseux', 'creatifs', 'creative', 'crepe', 'crepes', 'crevant', 'crevettes', 'criarde', 'cris', 'critique', 'critiquer', 'critiques', 'croirait', 'croire', 'crois', 'croissant', 'croissants', 'croque', 'croustillant', 'croustillante', 'croustillantes', 'croustillants', 'croyais', 'croûte', 'cruelle', 'cruellement', 'crues', 'crus', 'crème', 'crèpes', 'créatif', 'création', 'créative', 'créativité', 'créatrice', 'créditer', 'crémeux', 'crépinettes', 'crêpe', 'crêperie', 'crêpes', 'crêques', 'cuenta', 'cuillères', 'cuir', 'cuisine', 'cuisiner', 'cuisines', 'cuisinier', 'cuisiniers', 'cuisiné', 'cuisinées', 'cuisinés', 'cuisisiner', 'cuisse', 'cuisses', 'cuisson', 'cuissons', 'cuit', 'cuite', 'cuites', 'cuits', 'cuivrées', 'culinaire', 'culinaires', 'culottée', 'culpabilisant', 'curieuse', 'curieux', 'curiosité', 'curry', 'custom', 'cygne', 'cède', 'cèpes', 'céder', 'célèbre', 'célébrer', 'célébrités', 'céramique', 'cêpes', 'cône', 'côte', 'côté', 'côtéplus', 'cœur', 'da', 'daigne', 'daigné', 'dame', 'dames', 'dangeureux', 'daniela', 'dans', 'dar', 'dasn', 'datant', 'daubée', 'dauphinois', 'daurade', 'david', 'de', 'debout', 'debut', 'deception', 'decerestaurant', 'decide', 'deco', 'decor', 'decoration', 'decorés', 'decouvert', 'decouverte', 'decouvrir', 'decu', 'dedans', 'definetely', 'degeu', 'degeulasse', 'degrésplus', 'degustation', 'deguster', 'dehors', 'dej', 'deja', 'dejeuner', 'dejeuné', 'del', 'delavées', 'delicieuse', 'delicieuses', 'delicieux', 'deliveroo', 'delivrait', 'delà', 'demain', 'demande', 'demandent', 'demander', 'demandes', 'demandons', 'demandé', 'demandés', 'demi', 'demie', 'den', 'denis', 'dente', 'depaysant', 'deplace', 'deplorable', 'depose', 'depuis', 'dernier', 'dernière', 'dernièrement', 'dernières', 'derrière', 'des', 'desagreable', 'descente', 'design', 'dessert', 'desserts', 'desservir', 'dessins', 'dessous', 'dessus', 'detour', 'deux', 'deuxieme', 'deuxième', 'devais', 'devait', 'devant', 'devanture', 'devenu', 'devenue', 'devenus', 'devez', 'deviennent', 'devient', 'deviner', 'devions', 'devoir', 'devrait', 'deçeption', 'deçue', 'di', 'diarrhée', 'diego', 'difference', 'difficile', 'difficulté', 'difficultés', 'diffusé', 'différence', 'différencier', 'différent', 'différente', 'différentes', 'différents', 'digestif', 'digne', 'dignes', 'dimanche', 'diminutif', 'diminué', 'diner', 'dinette', 'dingue', 'dinner', 'diné', 'diponible', 'dirai', 'dirais', 'dirait', 'dire', 'direct', 'directement', 'directeur', 'direction', 'directive', 'directrice', 'dirigé', 'dirigés', 'dis', 'disait', 'disant', 'discret', 'discrets', 'discrète', 'discrètement', 'discrétion', 'discussion', 'discussions', 'discuter', 'discuté', 'dise', 'disent', 'disons', 'disparaître', 'disparition', 'dispo', 'disponibilité', 'disponible', 'disponibles', 'disposer', 'disposition', 'disserter', 'dissuader', 'distance', 'distant', 'distillée', 'distingue', 'distinguée', 'distrait', 'distribution', 'dit', 'dites', 'dithyrambiques', 'dits', 'dityrambiques', 'divers', 'diversifié', 'diversité', 'divin', 'divine', 'divines', 'divins', 'divisé', 'divray', 'dix', 'dizaine', 'dizaines', 'diététiques', 'dj', 'djouje', 'dogs', 'doigt', 'doigts', 'dois', 'doit', 'doive', 'doivent', 'dollars', 'domaines', 'domenico', 'dominical', 'dominicale', 'dommage', 'donald', 'donc', 'donnait', 'donnant', 'donne', 'donnent', 'donner', 'donnerait', 'donné', 'donnée', 'donnés', 'dont', 'dormir', 'dorures', 'dosage', 'dosé', 'dosées', 'double', 'doublement', 'douce', 'douceur', 'douleurs', 'doute', 'douterplus', 'douteuse', 'douzaine', 'doué', 'draguer', 'dressage', 'dressée', 'dressées', 'droit', 'drole', 'ds', 'dsk', 'du', 'duke', 'dumas', 'duo', 'dur', 'durant', 'dure', 'dures', 'duré', 'durée', 'duxelle', 'dynamique', 'dynamisme', 'dècorèes', 'dès', 'débarrasser', 'débarrassées', 'débité', 'débordé', 'débordée', 'débordés', 'début', 'débutant', 'débuter', 'décalage', 'décalé', 'décembre', 'déception', 'déceptions', 'déceptionà', 'décevant', 'décevante', 'décevantes', 'décevantmacaron', 'décevants', 'décevra', 'décibels', 'décide', 'décider', 'décidons', 'décidé', 'décidément', 'décliner', 'décliné', 'déclinées', 'déclinés', 'déco', 'déconcertante', 'déconseille', 'déconseilles', 'déconseillons', 'décontracté', 'décontractée', 'décontractés', 'décor', 'décoration', 'décorations', 'décorer', 'décorum', 'décoré', 'décorée', 'décoréel', 'découpe', 'découvert', 'découverte', 'découvertes', 'découvrant', 'découvre', 'découvrir', 'découvrons', 'décrire', 'décrocher', 'décru', 'décu', 'décès', 'dédaigneux', 'dédié', 'dédiée', 'défaillant', 'défavorable', 'défendait', 'définitivement', 'défraîchis', 'dégage', 'dégageaient', 'dégout', 'dégoûtant', 'dégoûtante', 'dégoûtée', 'dégrader', 'dégueulasses', 'dégustation', 'dégustations', 'déguste', 'déguster', 'dégusté', 'dégât', 'déjeuner', 'déjeuné', 'déjà', 'délaisser', 'délibérément', 'délicat', 'délicate', 'délicatement', 'délicates', 'délicatesse', 'délicats', 'délice', 'délices', 'délicieuse', 'délicieusement', 'délicieuses', 'délicieux', 'délier', 'délirant', 'délivre', 'déloger', 'déléguer', 'démarrage', 'démentent', 'démentes', 'dénégations', 'départ', 'départc', 'dépaysement', 'dépit', 'déplace', 'déplacement', 'déplaisant', 'déplorable', 'déplorables', 'déplu', 'déposée', 'déranger', 'dérouler', 'déroulé', 'dés', 'désagréable', 'désagréables', 'désagrément', 'désagréments', 'désastreux', 'désert', 'désespérément', 'désign', 'désirant', 'désirer', 'désirez', 'désirs', 'désistement', 'désolé', 'désordonné', 'désorganisation', 'désoriente', 'désormais', 'déssert', 'désuet', 'déséquilibrés', 'détail', 'détails', 'détendu', 'détendue', 'détente', 'détestable', 'détestant', 'détour', 'détrempé', 'détriment', 'dévolu', 'dévoué', 'déçu', 'déçue', 'déçues', 'déçus', 'dînatoire', 'dîne', 'dîner', 'dîners', 'dîné', 'dû', 'east', 'easy', 'eat', 'eau', 'eauapéro', 'eaux', 'ecailler', 'eclairs', 'ecole', 'edern', 'effacer', 'effacé', 'effectivement', 'effeil', 'effervescence', 'effet', 'effets', 'efficace', 'efficaces', 'efficaceun', 'efficacité', 'effort', 'efforts', 'egalement', 'eh', 'eiffel', 'el', 'elan', 'elegant', 'element', 'elisamulys', 'elizabeth', 'elle', 'elles', 'eloges', 'elvis', 'elysees', 'elysées', 'email', 'emballage', 'emballés', 'embarque', 'embarras', 'emblée', 'embrassades', 'eme', 'emission', 'emmener', 'emmené', 'empesée', 'emplacement', 'employés', 'emporter', 'emporté', 'empresse', 'empressés', 'empêche', 'en', 'enc', 'encadrés', 'encaisse', 'enceinte', 'encensé', 'enchainement', 'enchantement', 'enchanteur', 'enchanté', 'enchantés', 'enchaînent', 'encombré', 'encontre', 'encore', 'encornet', 'encornets', 'encourager', 'encre', 'end', 'endroit', 'endroits', 'enfant', 'enfantin', 'enfants', 'enfer', 'enfin', 'engouement', 'enjoint', 'enlever', 'enlevé', 'enlèvee', 'ennuyeux', 'enregistrement', 'enregistrée', 'enrobées', 'enseigne', 'ensemble', 'ensoleillé', 'ensoleillée', 'ensuite', 'entamé', 'entassés', 'entend', 'entendait', 'entendez', 'entendre', 'entendu', 'enterrement', 'enthousiasme', 'enthousiaste', 'enthousiastes', 'entier', 'entièrement', 'entrant', 'entre', 'entrecôte', 'entree', 'entrees', 'entremets', 'entrer', 'entres', 'entretenu', 'entretien', 'entrez', 'entrons', 'entré', 'entrée', 'entrées', 'entrés', 'envahis', 'envahissant', 'envahit', 'envers', 'envie', 'envies', 'environ', 'environnants', 'environnement', 'envisagez', 'envoûtant', 'epaisseur', 'epices', 'epicure', 'epie', 'epinards', 'epuré', 'equipaplus', 'equipe', 'er', 'eric', 'erithréen', 'errance', 'erreur', 'erreurs', 'erythreennes', 'es', 'escape', 'escargot', 'escargots', 'espace', 'espacement', 'espaces', 'espacées', 'espacés', 'espadon', 'especialmente', 'espoir', 'esprit', 'esprits', 'espèce', 'espère', 'espérances', 'espérer', 'espérons', 'espéré', 'espérée', 'essaye', 'essayer', 'essayez', 'essayons', 'essayé', 'essentiel', 'essentiellement', 'est', 'estampillés', 'estelle', 'esthetique', 'esthètes', 'esthétiquement', 'estomac', 'et', 'etablissement', 'etage', 'etaient', 'etais', 'etait', 'etant', 'etc', 'etes', 'etions', 'etoile', 'etoiles', 'etonnante', 'etre', 'etude', 'eté', 'eu', 'eudes', 'eue', 'eues', 'eugène', 'eur', 'euro', 'europe', 'européen', 'euros', 'eut', 'eux', 'evening', 'eveningfilling', 'event', 'eviter', 'ex', 'exactement', 'exacts', 'exagère', 'excelent', 'excelle', 'excellemment', 'excellence', 'excellent', 'excellente', 'excellentes', 'excellentje', 'excellents', 'exception', 'exceptionnel', 'exceptionnelle', 'exceptionnellement', 'exceptionnelles', 'exceptionnels', 'exceptionnous', 'excepté', 'excessif', 'excessifs', 'excessives', 'excité', 'exclusivement', 'excursion', 'excuse', 'excusez', 'excusés', 'excès', 'exelent', 'exemplaire', 'exemple', 'exeptionnelle', 'exergue', 'exhorbitant', 'exhorbitante', 'exigeant', 'exigeants', 'exigence', 'exigences', 'exigu', 'exiguë', 'existe', 'existence', 'existé', 'exorbitant', 'exorbitants', 'exotiques', 'experience', 'experiences', 'expert', 'expertise', 'explicatif', 'explication', 'explications', 'expliquant', 'expliquants', 'explique', 'expliquer', 'expliquera', 'expliqués', 'explorer', 'explosent', 'explosion', 'expo', 'exposition', 'expositions', 'exprès', 'expédie', 'expédié', 'expérience', 'expériences', 'exquis', 'exquise', 'exquises', 'exsite', 'exterieur', 'exterminent', 'externe', 'extra', 'extraordinaire', 'extraordinairement', 'extraordinaires', 'extrême', 'extrêmement', 'extérieur', 'extérieure', 'exécrable', 'exécutants', 'exécution', 'exécuté', 'exécutée', 'exécutés', 'fabien', 'fabuleuse', 'fabuleuses', 'fabuleux', 'face', 'facebook', 'facile', 'facilement', 'facilité', 'facture', 'facturé', 'fad', 'fadace', 'fade', 'fades', 'faham', 'faible', 'faille', 'faim', 'fain', 'faire', 'fais', 'faisaient', 'faisais', 'faisait', 'faisant', 'faisions', 'faisons', 'fait', 'faite', 'faites', 'faits', 'falafel', 'falafels', 'fallafel', 'fallafels', 'fallait', 'fallu', 'fameux', 'familial', 'familiale', 'familiarisé', 'familiarité', 'familier', 'familière', 'famille', 'fan', 'fans', 'fantasmais', 'fantastique', 'fantastiques', 'farandole', 'farci', 'farcie', 'farfelue', 'fast', 'fatidique', 'fatigué', 'fatigués', 'faubourg', 'faudra', 'fausse', 'faussement', 'fausses', 'faut', 'faute', 'fautes', 'fauteuils', 'faux', 'faveurs', 'favorablement', 'favorables', 'favoris', 'favorite', 'fayette', 'façade', 'façon', 'façons', 'faîtes', 'fb', 'fe', 'felicitations', 'felipe', 'femme', 'femmes', 'fenêtre', 'fenêtres', 'fera', 'feraient', 'ferme', 'fermer', 'fermes', 'fermier', 'fermé', 'fermée', 'fermés', 'fernando', 'festif', 'festival', 'festive', 'feu', 'feuille', 'feuilles', 'feuilletage', 'feutrer', 'feutré', 'feutrée', 'feux', 'fiable', 'fiables', 'fiancé', 'fiancée', 'fiasco', 'fiche', 'fidèle', 'fidèles', 'fier', 'fiez', 'figue', 'figues', 'figure', 'fil', 'file', 'filet', 'filets', 'filipé', 'fille', 'filles', 'film', 'films', 'fils', 'fin', 'final', 'finale', 'finalement', 'find', 'fine', 'finement', 'fineparfaitement', 'fines', 'finesse', 'fini', 'finie', 'finir', 'finis', 'finit', 'fins', 'fioriture', 'fish', 'fishbals', 'fièrement', 'flacons', 'flambé', 'flammes', 'flan', 'flatteur', 'flemme', 'fleur', 'fleuri', 'fleurs', 'florale', 'florales', 'flotte', 'fluide', 'fléchi', 'fléché', 'flûte', 'foi', 'foie', 'foies', 'fois', 'foisc', 'folichon', 'folie', 'folies', 'folles', 'foncez', 'fonction', 'fond', 'fondamentaux', 'fondant', 'fondre', 'fonds', 'fondu', 'fondue', 'fondé', 'font', 'food', 'foodsurprising', 'for', 'force', 'forcé', 'forcément', 'forfait', 'fork', 'formalité', 'forme', 'formes', 'formidable', 'formidableune', 'formuka', 'formule', 'formules', 'fort', 'forte', 'fortement', 'fortes', 'forts', 'fouillis', 'foule', 'four', 'fourchette', 'fourneaux', 'fourni', 'fournie', 'fournir', 'fout', 'foutage', 'foutiste', 'fraiches', 'fraicheur', 'frais', 'francais', 'francaise', 'france', 'franchement', 'franchisée', 'franco', 'franquette', 'français', 'française', 'frappante', 'frappe', 'frappé', 'fraçais', 'fraîche', 'fraîches', 'fraîcheur', 'frechon', 'free', 'french', 'fric', 'fricassée', 'friendly', 'frigo', 'frire', 'frise', 'frisé', 'frite', 'frites', 'frits', 'frittes', 'friture', 'frog', 'froid', 'froide', 'froidement', 'froides', 'froideur', 'fromage', 'fromages', 'frugal', 'fruit', 'fruits', 'frère', 'fréchon', 'frédérique', 'fréquentant', 'fréquentation', 'fréquente', 'fréquenté', 'fréquentée', 'fubuleux', 'fuir', 'fuite', 'fument', 'fumoir', 'furent', 'furieux', 'fusil', 'fusion', 'fut', 'futur', 'futuriste', 'fuyez', 'fèves', 'féminine', 'férié', 'féru', 'fétiches', 'février', 'fêta', 'fêtait', 'fête', 'fêter', 'fêtions', 'fêté', 'fûmes', 'fût', 'gabriel', 'gaché', 'gadgets', 'gaffes', 'gagnaire', 'galerie', 'galette', 'galettes', 'gall', 'gambas', 'game', 'gamme', 'garanti', 'garantie', 'garcia', 'garde', 'garder', 'gardez', 'gardions', 'gardons', 'gardé', 'gardée', 'gare', 'garnies', 'garniesrien', 'garnis', 'garniture', 'garnitures', 'gars', 'garçon', 'gaspiller', 'gastro', 'gastronomes', 'gastronomic', 'gastronomie', 'gastronomique', 'gastronomiques', 'gauche', 'gaufré', 'gavotte', 'gay', 'gazeuse', 'gelati', 'genereux', 'genia', 'genialissime', 'genre', 'gens', 'gentil', 'gentille', 'gentillesse', 'gentils', 'gentiment', 'george', 'georges', 'gerant', 'gerard', 'gerent', 'germain', 'geste', 'gestion', 'gibier', 'gigot', 'gilet', 'gilles', 'gingembre', 'gins', 'giovanni', 'girolle', 'girolles', 'glace', 'glaces', 'glacial', 'glaciale', 'glacier', 'glacé', 'glaçons', 'glissées', 'globale', 'globalement', 'gluten', 'gnocchi', 'gnocchis', 'gogo', 'gomme', 'gorgée', 'gourmand', 'gourmande', 'gourmandes', 'gourmandise', 'gourmandises', 'gourmet', 'gourmets', 'gout', 'gouter', 'gouteuse', 'gouteux', 'gouts', 'goutte', 'gouttes', 'goutus', 'goutés', 'goût', 'goûter', 'goûteuse', 'goûteuses', 'goûteux', 'goûtez', 'goûts', 'goûté', 'grace', 'gradé', 'graisse', 'grammes', 'grand', 'grande', 'grandement', 'grandes', 'grandeur', 'grandiose', 'grandir', 'grands', 'granité', 'gransd', 'grappa', 'gras', 'grasse', 'grasses', 'gratin', 'gratinée', 'gratuit', 'grave', 'gravelax', 'graver', 'gravée', 'great', 'grec', 'green', 'grenaille', 'grenouille', 'grenouilles', 'gribiche', 'grignoter', 'grignotteries', 'grillé', 'grillée', 'grillées', 'grilléla', 'gris', 'grisonnant', 'gros', 'grosse', 'grosses', 'grossesse', 'grossière', 'grossières', 'grossièreté', 'groupe', 'gruyère', 'grâce', 'gré', 'guacamole', 'guettait', 'gueules', 'guide', 'guides', 'guidés', 'guignol', 'guimauve', 'guindé', 'guise', 'gum', 'gustatif', 'gustative', 'gustatives', 'guy', 'guéméné', 'gyosa', 'gâchis', 'gâché', 'gâchée', 'gâte', 'gâteau', 'gâteaux', 'gâtent', 'gène', 'gère', 'génant', 'génial', 'géniale', 'général', 'générale', 'généralement', 'généreuse', 'généreuses', 'généreux', 'générosité', 'géographique', 'gérant', 'gérante', 'gérants', 'gérard', 'gêne', 'gêné', 'ha', 'habilement', 'habitant', 'habitante', 'habite', 'habitons', 'habitude', 'habituel', 'habitué', 'habituée', 'habitués', 'hachée', 'had', 'haddock', 'hai', 'hais', 'halles', 'hallucine', 'halte', 'hamburger', 'hamburgers', 'hanawa', 'handicapés', 'hank', 'happycow', 'hareng', 'haricots', 'harmonie', 'harmonieux', 'harmoniques', 'hasard', 'haut', 'hautain', 'hautaine', 'haute', 'hautement', 'hauteur', 'hauts', 'herbe', 'herbes', 'heure', 'heures', 'heureusement', 'heureuses', 'heureux', 'hexagonaux', 'hexagone', 'hic', 'hier', 'hihihi', 'histoire', 'historique', 'hiver', 'homard', 'homemade', 'homme', 'hommes', 'honneur', 'honneurbravo', 'honnête', 'honorable', 'honoré', 'honte', 'honteuse', 'honteux', 'hop', 'horaires', 'hormis', 'horrible', 'hors', 'hospitalité', 'hot', 'hotel', 'houmous', 'hubert', 'hugo', 'hui', 'huile', 'huileuses', 'huit', 'huitres', 'hum', 'humanité', 'humble', 'humeur', 'humour', 'huître', 'huîtres', 'hygiène', 'hype', 'hyper', 'hypers', 'hâte', 'hélas', 'hésitantes', 'hésitation', 'hésitent', 'hésiter', 'hésitez', 'hésitions', 'hésité', 'hétéroclite', 'hôte', 'hôtel', 'hôtelière', 'hôtellerie', 'hôtels', 'hôtes', 'hôtesse', 'hôtesses', 'ici', 'identité', 'idyllique', 'idéal', 'idéale', 'idéalement', 'idéales', 'idée', 'ignoble', 'ignore', 'ignoré', 'il', 'ilion', 'illimités', 'illisible', 'illuminent', 'illustre', 'ils', 'image', 'imagination', 'imaginative', 'imagine', 'imaginé', 'imaginées', 'imangeable', 'imbattable', 'imbu', 'imbus', 'imbuvable', 'imbuvables', 'imbéciles', 'imed', 'imitant', 'imitation', 'imiter', 'immangeable', 'immense', 'immenses', 'immeuble', 'immédiatement', 'imméritées', 'impact', 'impatient', 'impatients', 'impecable', 'impeccable', 'impeccables', 'impensable', 'impersonnel', 'impertinence', 'impoli', 'impolitesse', 'importance', 'important', 'importe', 'imposait', 'impose', 'impossibilité', 'impossible', 'imposé', 'imposés', 'impression', 'impressionnant', 'impressionner', 'impressionné', 'impressionnée', 'impressionnés', 'improbablevenus', 'improvisé', 'imprécise', 'impécable', 'impérativement', 'in', 'inacceptables', 'inaccessible', 'inadmissible', 'inattendues', 'inattendus', 'incapables', 'incarnée', 'incendie', 'incipide', 'incité', 'inclus', 'incomparable', 'incompetent', 'incompréhension', 'incompétent', 'inconcevable', 'inconditionnel', 'inconfortable', 'inconnu', 'inconnue', 'inconnues', 'inconnus', 'inconsistantes', 'incontestablement', 'incontournable', 'incontournables', 'incorrecte', 'incorrection', 'incroyable', 'incroyablement', 'incroyables', 'inde', 'indean', 'indien', 'indienne', 'indiennes', 'indiens', 'indifférent', 'indifférents', 'indigne', 'indignes', 'indignés', 'indiquant', 'indique', 'indiqué', 'indispensable', 'indispensables', 'individuel', 'individuels', 'indonésie', 'industrielle', 'industrielles', 'industriels', 'indésirables', 'inefficace', 'inexistante', 'inexpérimenté', 'infamie', 'infect', 'infecte', 'infectes', 'infinite', 'influence', 'influences', 'info', 'information', 'informe', 'informes', 'informé', 'inférieures', 'ingrédient', 'ingrédients', 'inhabituel', 'inhabituelles', 'inhérentes', 'initial', 'initialement', 'injustement', 'inmanquable', 'inneficace', 'innovant', 'innovante', 'innovants', 'innovation', 'inoubliable', 'inoubliables', 'insatisfaction', 'insignifiant', 'insinué', 'insipide', 'insipides', 'insistance', 'insistante', 'insisté', 'insonorisé', 'inspecteurs', 'inspirante', 'inspiration', 'inspire', 'inspiré', 'instable', 'installe', 'installer', 'installez', 'installées', 'installés', 'instant', 'instar', 'institution', 'insuffisante', 'insulté', 'insuportablement', 'insupportable', 'insurger', 'integre', 'intelligentes', 'intensité', 'interdits', 'interet', 'interloquée', 'interminable', 'internationale', 'internet', 'interpelle', 'interpellera', 'interpellé', 'intervenir', 'intime', 'intimidant', 'intimiste', 'intimité', 'intolérance', 'intolérances', 'intolérante', 'intolérences', 'intrigues', 'introduire', 'introuvable', 'intrusif', 'intégralité', 'intéressant', 'intéressante', 'intéressantes', 'intéressants', 'intéresser', 'intérieur', 'intérêt', 'inutile', 'inutiles', 'inventer', 'inventif', 'inventifs', 'inventive', 'inventivité', 'inverse', 'invitation', 'invite', 'invitent', 'inviter', 'invitions', 'invité', 'invitée', 'invités', 'inédit', 'inédite', 'inégalable', 'inéluctable', 'ira', 'irai', 'irait', 'iran', 'iranien', 'iranienne', 'iraniennes', 'iraniens', 'iranniene', 'ironique', 'irrespectueuse', 'irrespectueux', 'irréprochable', 'irréprochablement', 'irréprochables', 'ischia', 'issus', 'italie', 'italien', 'italienne', 'italiennes', 'italiens', 'ixème', 'jaboulet', 'jacques', 'jamais', 'jambes', 'jambon', 'janin', 'janvier', 'japon', 'japonais', 'japonaise', 'japonaises', 'japonnaise', 'jardin', 'jardins', 'jarret', 'jaune', 'je', 'jean', 'jeanne', 'jeannes', 'jeter', 'jettes', 'jeté', 'jeu', 'jeudi', 'jeune', 'jeunes', 'jeunesse', 'jeux', 'jgr', 'joie', 'joies', 'joindre', 'joins', 'joli', 'jolie', 'jolies', 'joliment', 'jolis', 'josé', 'jouissif', 'jouit', 'jour', 'journée', 'jours', 'joviales', 'joyau', 'joëlle', 'jp', 'judicieuses', 'judicieux', 'jugement', 'juillet', 'juin', 'julien', 'jumin', 'jus', 'jusqu', 'jusque', 'juste', 'justes', 'justesprésentation', 'justice', 'justifiait', 'justifiant', 'justifications', 'justifie', 'justifient', 'justifier', 'justifiée', 'justifiées', 'justifiés', 'juteuse', 'juxtapositions', 'jérôme', 'kai', 'kaiser', 'kebab', 'kei', 'ketchup', 'kgb', 'kilo', 'kilomètres', 'kinzo', 'kir', 'kitchen', 'kjdhd', 'kobe', 'kobé', 'kodawari', 'kong', 'korean', 'koubide', 'kozy', 'kub', 'kugorawa', 'la', 'lafourchette', 'laid', 'laissaient', 'laissait', 'laissant', 'laisse', 'laisser', 'laissera', 'laissez', 'laissé', 'laissées', 'laissés', 'lait', 'laitiers', 'lamentable', 'lames', 'langoustine', 'langoustines', 'langue', 'lanvi', 'lanzhou', 'laquelle', 'large', 'largement', 'lasagnes', 'lasse', 'latin', 'latino', 'laure', 'lavash', 'le', 'lecture', 'ledeuil', 'leger', 'legers', 'lent', 'lente', 'lenteur', 'lentilles', 'lequel', 'lerestaurent', 'les', 'lesquelles', 'lettre', 'leur', 'leurs', 'levinson', 'libanais', 'libanaise', 'libre', 'libère', 'liegeois', 'lieu', 'lieux', 'lievre', 'light', 'ligne', 'lilas', 'lillois', 'limininaire', 'limite', 'limites', 'limité', 'limitée', 'limougeauds', 'lipp', 'liquide', 'lire', 'lis', 'lisbonne', 'liste', 'lit', 'littéralement', 'livraison', 'livre', 'livrer', 'livré', 'lièvre', 'lié', 'liés', 'local', 'localisation', 'logeait', 'loin', 'lointains', 'lois', 'lol', 'lombards', 'long', 'longtemps', 'longue', 'look', 'lors', 'lorsqu', 'lorsque', 'lot', 'louis', 'loulous', 'lounge', 'loupée', 'lourd', 'lourde', 'low', 'loyer', 'lu', 'lucas', 'lugubre', 'lui', 'lumineuse', 'lumineux', 'lumière', 'lumières', 'lundi', 'lundis', 'lunettes', 'luxe', 'luxueux', 'là', 'làplus', 'lâche', 'lève', 'lèvres', 'léchions', 'léger', 'légume', 'légumes', 'légère', 'légèrement', 'légères', 'légèreté', 'ma', 'mac', 'macadamia', 'macaroni', 'macaronis', 'macarons', 'macau', 'machine', 'madame', 'madeleine', 'madeleines', 'madère', 'madérisé', 'maestria', 'magie', 'magique', 'magnifique', 'magnifiquement', 'magnifiques', 'magné', 'magret', 'mai', 'maigre', 'mail', 'mains', 'maintenant', 'mais', 'maison', 'maisons', 'maitre', 'maitrise', 'maitrisse', 'maitrisée', 'majestueuse', 'majestueux', 'majeure', 'majoritairement', 'maki', 'makis', 'mal', 'malade', 'maladroit', 'malchance', 'malgrè', 'malgré', 'malheur', 'malheureusement', 'malpolie', 'maltraitées', 'maman', 'mamie', 'mamma', 'man', 'manager', 'mandarin', 'mandarine', 'mange', 'mangeable', 'mangeables', 'mangeait', 'manger', 'mangez', 'mangions', 'mangue', 'mangé', 'manière', 'manquait', 'manquant', 'manque', 'manquent', 'manquer', 'manquerait', 'maqnifique', 'maquereau', 'marais', 'marc', 'marchand', 'marchande', 'marche', 'marché', 'marchétout', 'marcon', 'mardi', 'margarita', 'mari', 'mariage', 'mariages', 'marie', 'marier', 'marines', 'mariné', 'marié', 'mariés', 'marmites', 'marque', 'marquer', 'marronniers', 'mars', 'marseillais', 'marx', 'masala', 'mascarpone', 'maso', 'masquant', 'masqué', 'massala', 'match', 'matcha', 'matin', 'matinée', 'matière', 'matsuri', 'maturation', 'mauvais', 'mauvaise', 'mauvaises', 'max', 'maxi', 'maximale', 'maximum', 'mayo', 'mayonnaise', 'maître', 'maîtres', 'maîtresse', 'maîtrise', 'maîtrisé', 'maîtrisée', 'mc', 'me', 'mediocre', 'meilleur', 'meilleure', 'meilleures', 'meilleurs', 'mejor', 'meme', 'menace', 'menetou', 'ment', 'menthe', 'menthetiède', 'mention', 'menu', 'menus', 'menées', 'mer', 'merci', 'merciplus', 'mercredi', 'merguez', 'meringue', 'merite', 'meriter', 'merlan', 'mersea', 'merveille', 'merveilles', 'merveilleuse', 'merveilleusement', 'merveilleuses', 'merveilleux', 'mes', 'message', 'messieurs', 'mesure', 'met', 'mets', 'mettant', 'mettez', 'mettre', 'meurette', 'mexicain', 'mexicaine', 'mexican', 'mexique', 'mia', 'miam', 'michel', 'michelin', 'micro', 'microscopiques', 'midi', 'midis', 'mie', 'miel', 'mien', 'mienne', 'mieux', 'mignardises', 'mignon', 'mignons', 'milieu', 'mille', 'millefeuille', 'milliers', 'millimetré', 'million', 'min', 'mina', 'minable', 'mine', 'mini', 'miniardises', 'minimal', 'minimaliste', 'minimalistes', 'minime', 'minimes', 'minimum', 'miniscule', 'minuscule', 'minuscules', 'minute', 'minutes', 'minutie', 'minutieux', 'minérale', 'mirabelle', 'miroirs', 'mis', 'mise', 'mises', 'miso', 'mission', 'mixte', 'miyazaki', 'mmontparnadse', 'mn', 'mob', 'mobilier', 'mobster', 'moche', 'mode', 'moderation', 'moderne', 'moderniser', 'modernité', 'modeste', 'modifications', 'modifier', 'modérée', 'moelle', 'moelleux', 'moi', 'moindre', 'moindres', 'moins', 'mois', 'moitié', 'mojito', 'mole', 'molles', 'molto', 'moment', 'moments', 'mon', 'monacale', 'monde', 'mondialement', 'monnaie', 'monsieur', 'montagnard', 'montagnes', 'montant', 'monter', 'montmartre', 'montparnasse', 'montré', 'moque', 'moquer', 'moqueur', 'moral', 'morceaux', 'moret', 'moribondes', 'mot', 'motivé', 'motivés', 'mots', 'mou', 'moucherons', 'mouffetard', 'moules', 'moulin', 'moultes', 'mousse', 'moutarde', 'moyen', 'moyenne', 'moyennement', 'moyennes', 'moyens', 'mozzarella', 'mozzas', 'mr', 'mulet', 'multiples', 'multitude', 'mumi', 'mundo', 'mur', 'mural', 'murs', 'musical', 'musique', 'must', 'musée', 'mutiste', 'my', 'myriade', 'myrtilles', 'mythique', 'mère', 'mères', 'mètre', 'mètres', 'mécanique', 'mécontents', 'médecin', 'médiatisé', 'médiocre', 'médiocres', 'méditation', 'méditerranée', 'médium', 'mélange', 'mélangeant', 'mélangent', 'mélanger', 'mélanges', 'mélangée', 'mémoire', 'mémoires', 'mémorable', 'mémorables', 'méprendre', 'méprisant', 'méritant', 'mérite', 'méritent', 'mériter', 'mériterait', 'méritées', 'mérités', 'métier', 'métiers', 'métro', 'météo', 'mêlant', 'même', 'mêmes', 'naan', 'nage', 'nagent', 'nan', 'nancy', 'nans', 'napolitaines', 'naranja', 'narcis', 'narciz', 'nata', 'nature', 'naturel', 'naturellement', 'naufrage', 'navrant', 'ne', 'nectar', 'needed', 'negatif', 'neige', 'nems', 'nerfs', 'nerveuse', 'net', 'nets', 'nettement', 'neuf', 'neutre', 'neutres', 'nez', 'ni', 'niché', 'nickel', 'nico', 'nicolas', 'night', 'niveau', 'no', 'nobles', 'noir', 'noire', 'noires', 'noirs', 'noix', 'nom', 'nombre', 'nombreuse', 'nombreuses', 'nombreux', 'nommé', 'noms', 'non', 'nonchalant', 'normal', 'norme', 'norvégienne', 'nos', 'nossa', 'notamment', 'note', 'noter', 'notes', 'notoriété', 'notre', 'noté', 'nougat', 'nouille', 'nouilles', 'nounours', 'nourriture', 'nous', 'nouveau', 'nouveautés', 'nouveaux', 'nouvel', 'nouvelle', 'nouvelles', 'novateur', 'novatrice', 'novembre', 'noyé', 'noyées', 'nuage', 'nuit', 'nuits', 'nul', 'nulle', 'numéro', 'nutella', 'nº', 'né', 'néanmoins', 'nécessaire', 'nécessairement', 'nécessité', 'négatif', 'négatifs', 'négative', 'objet', 'obligations', 'obligatoire', 'obligatoires', 'oblige', 'obliger', 'obligé', 'obscurité', 'observation', 'obséquieux', 'obséquiosité', 'obtenir', 'obtenu', 'obtiendrez', 'occasion', 'occasionnellement', 'occasions', 'occidentale', 'occupe', 'occuper', 'occupé', 'occupées', 'octobre', 'océan', 'odeur', 'odeurs', 'odieux', 'odorat', 'odyssee', 'oeil', 'oeuf', 'oeufs', 'oeuvre', 'oeuvres', 'offert', 'offerte', 'offertes', 'offerts', 'officiait', 'officiellement', 'officielles', 'officier', 'offrait', 'offre', 'offrent', 'offres', 'offrir', 'offrira', 'offrons', 'offusqué', 'ogre', 'oie', 'oignon', 'oignons', 'ok', 'olive', 'olives', 'ombre', 'omelette', 'omniprésent', 'on', 'onctueuses', 'onde', 'ondes', 'onglet', 'onions', 'ont', 'ontinu', 'opinion', 'opportunité', 'opposé', 'oppressé', 'option', 'options', 'optons', 'opté', 'opère', 'opération', 'opére', 'orange', 'orateur', 'ordre', 'oreille', 'organisant', 'organisation', 'orgie', 'orgue', 'orgueilleuse', 'orient', 'oriental', 'orientale', 'orienté', 'original', 'originale', 'originales', 'originalité', 'originalités', 'originaux', 'origine', 'orloff', 'ormeaux', 'orsay', 'os', 'ostentation', 'ostentatoire', 'ostreiculteur', 'osé', 'ou', 'oublie', 'oublier', 'oublierai', 'oublié', 'oubliée', 'ouest', 'ouf', 'oui', 'our', 'oursins', 'outre', 'outrés', 'ouvert', 'ouverte', 'ouverts', 'ouverture', 'ouvre', 'ouvrir', 'overratings', 'oxte', 'où', 'oú', 'pad', 'page', 'paie', 'paille', 'pain', 'paine', 'pains', 'pair', 'paisible', 'pakistanais', 'palace', 'palaces', 'palais', 'palece', 'palet', 'palets', 'palmiers', 'palourde', 'panais', 'panini', 'paninis', 'panna', 'pans', 'panthéon', 'papa', 'papier', 'papille', 'papilles', 'papillesl', 'papillon', 'par', 'parait', 'parallèle', 'paraît', 'parce', 'parceque', 'parcimonieusement', 'parcours', 'pardi', 'pardonner', 'pardonné', 'pareil', 'parents', 'parfais', 'parfait', 'parfaite', 'parfaitement', 'parfaites', 'parfaits', 'parfaitun', 'parfois', 'parfum', 'parfums', 'parfumé', 'parfumée', 'parfuméedenseparfaite', 'parie', 'paris', 'parisien', 'parisienne', 'parisiennes', 'parisiens', 'parisplus', 'parlait', 'parle', 'parler', 'parlé', 'parme', 'parmentier', 'parmesan', 'parmi', 'parmis', 'parsemés', 'part', 'partage', 'partageons', 'partager', 'partagé', 'partagées', 'partagés', 'partait', 'parte', 'partenaire', 'parti', 'participe', 'particularités', 'particulier', 'particulière', 'particulièrement', 'particulières', 'partie', 'partions', 'partir', 'partis', 'partons', 'partout', 'parts', 'paru', 'pas', 'passable', 'passage', 'passages', 'passait', 'passant', 'passe', 'passent', 'passer', 'passera', 'passerez', 'passez', 'passiez', 'passion', 'passionnant', 'passionné', 'passionnés', 'passons', 'passé', 'passée', 'passées', 'passés', 'pasteis', 'patate', 'pate', 'pathétique', 'patience', 'patient', 'patienter', 'patienté', 'patisseries', 'patissier', 'pato', 'patrice', 'patrimoine', 'patron', 'patronne', 'patrons', 'paul', 'pause', 'pauvre', 'pauvres', 'paye', 'payer', 'payes', 'pays', 'payé', 'paz', 'pdt', 'peine', 'peint', 'peinture', 'pendant', 'pensais', 'pensait', 'pensant', 'pense', 'pensez', 'pensions', 'pensé', 'pensées', 'peps', 'perchée', 'perd', 'perde', 'perdent', 'perdre', 'perdue', 'pere', 'perfection', 'perfide', 'periode', 'permanence', 'permanent', 'permet', 'permettant', 'permettent', 'permettrait', 'permis', 'pernand', 'pers', 'personel', 'personnage', 'personnalisation', 'personnalisé', 'personnalité', 'personnalités', 'personne', 'personnel', 'personnelle', 'personnellement', 'personnels', 'personnes', 'pertinente', 'pertinents', 'pete', 'petit', 'petite', 'petites', 'petits', 'peu', 'peuplent', 'peut', 'peuvent', 'peux', 'pg', 'pharmaceutiques', 'phase', 'philharmonie', 'pho', 'photo', 'photos', 'phrase', 'physiques', 'pianovin', 'pianovins', 'pichet', 'picon', 'piece', 'pied', 'pieds', 'piege', 'pieges', 'pierre', 'pierres', 'pigale', 'pigalle', 'pigeon', 'pigeonneau', 'piles', 'pilote', 'piments', 'pinces', 'pinot', 'pintade', 'pintes', 'piquante', 'pire', 'pistache', 'pistaches', 'pita', 'pitoyable', 'pittoresque', 'pizza', 'pizzaiolo', 'pizzas', 'pizzeria', 'pièce', 'piège', 'piètre', 'place', 'placeambiance', 'places', 'placette', 'placé', 'placécadre', 'placée', 'placés', 'plafond', 'plaindre', 'plaint', 'plaisant', 'plaisanterie', 'plaisanteries', 'plaisir', 'plaisirs', 'plaisirservice', 'plan', 'planches', 'plane', 'plans', 'planète', 'plaque', 'plaques', 'plastique', 'plat', 'plateau', 'plateaux', 'plats', 'plaît', 'plein', 'pleine', 'pleinement', 'pleins', 'pleurer', 'plongera', 'plouc', 'plu', 'pluie', 'plupart', 'plus', 'plusieurs', 'plusle', 'plutot', 'plutôt', 'pluvieux', 'poche', 'poché', 'poellé', 'poignée', 'poil', 'point', 'pointe', 'points', 'poire', 'poireaux', 'poires', 'pois', 'poisson', 'poissons', 'poitrine', 'poivrons', 'poivré', 'polie', 'politesse', 'polémique', 'pomme', 'pommes', 'pompeux', 'pompidou', 'pompon', 'ponpon', 'pop', 'populaire', 'porc', 'porte', 'portefeuille', 'porter', 'portion', 'portions', 'porté', 'portée', 'pose', 'poser', 'positif', 'positifs', 'position', 'positionnés', 'positive', 'positives', 'possibilité', 'possibilités', 'possible', 'possèdent', 'posées', 'pot', 'potagère', 'potatoes', 'potence', 'potentielle', 'potes', 'pots', 'poubelle', 'pouce', 'poulet', 'poulets', 'poulpe', 'poulpes', 'pour', 'pourboire', 'pournotre', 'pourquoi', 'pourra', 'pourraient', 'pourrait', 'pourries', 'pourtant', 'pousse', 'poussent', 'pousser', 'poussez', 'poussiéreux', 'poussé', 'poutargue', 'pouvais', 'pouvait', 'pouvant', 'pouvez', 'pouvions', 'pouvoir', 'pouvons', 'poésie', 'poêlé', 'prague', 'praliné', 'pratique', 'pratiquement', 'pre', 'preferais', 'premier', 'premiere', 'premiers', 'première', 'premièrement', 'premières', 'prenant', 'prend', 'prendre', 'prends', 'prenez', 'prenne', 'prennent', 'prennes', 'prenons', 'prepara', 'prepareé', 'pres', 'presentation', 'presente', 'presque', 'pressait', 'presser', 'pressé', 'pressée', 'pressés', 'prestance', 'prestation', 'prestations', 'prestige', 'prestigieux', 'presume', 'preuve', 'prices', 'prie', 'principal', 'principale', 'principaux', 'priori', 'priorité', 'pris', 'prise', 'prises', 'prisé', 'prit', 'privatisé', 'privilège', 'privilégiés', 'privé', 'prix', 'prixc', 'pro', 'probablement', 'problème', 'problèmes', 'processus', 'prochaine', 'prochainement', 'proche', 'proches', 'procurent', 'produit', 'produits', 'professionalisme', 'professionnalisme', 'professionnel', 'professionnelle', 'professionnels', 'profil', 'profiler', 'profit', 'profite', 'profiter', 'profiteroles', 'profité', 'profondément', 'progresser', 'progression', 'progressivement', 'prohibitifs', 'projecteur', 'promenant', 'promene', 'promesses', 'prometteur', 'promises', 'promo', 'prononcée', 'prononcées', 'proportions', 'propos', 'proposait', 'proposant', 'propose', 'proposer', 'proposition', 'propositions', 'proposé', 'proposée', 'proposées', 'proposés', 'propre', 'propres', 'propreté', 'proprio', 'proprios', 'propriétaire', 'propriétaires', 'pros', 'protocolaire', 'prouvé', 'provenant', 'province', 'proximité', 'prudent', 'près', 'pré', 'préalable', 'précieusement', 'précieux', 'précipitamment', 'précis', 'précise', 'précision', 'précisé', 'précédent', 'précédente', 'précédentes', 'précédents', 'prédis', 'préfère', 'préfèrez', 'préférable', 'préférence', 'préférer', 'préféré', 'préférée', 'préférées', 'préférés', 'prénom', 'préparation', 'préparations', 'prépare', 'préparent', 'préparer', 'préparez', 'préparé', 'préparées', 'préparés', 'prés', 'présence', 'présent', 'présentait', 'présentation', 'présentations', 'présente', 'présentent', 'présenter', 'présenterait', 'présentes', 'présents', 'présenté', 'présentés', 'prétentieuse', 'prétentieux', 'prétention', 'prétexte', 'prévenant', 'prévenir', 'prévenu', 'prévenus', 'prévoir', 'prévoyez', 'prévu', 'prévues', 'prêt', 'prête', 'pseudo', 'ptits', 'pu', 'publique', 'puent', 'puis', 'puisqu', 'puisque', 'puissante', 'puisse', 'punch', 'pupilles', 'pur', 'pure', 'pursuit', 'purée', 'pyrénées', 'pâle', 'pâte', 'pâtes', 'pâteuse', 'pâtisserie', 'pâtisseries', 'pâté', 'pâtés', 'pèse', 'pénétrons', 'pépite', 'période', 'pétales', 'pétillant', 'pêche', 'pêcher', 'qd', 'qqch', 'qqs', 'qu', 'quadragénaires', 'quais', 'qualifier', 'qualitatif', 'qualitatifs', 'qualitatives', 'qualite', 'qualité', 'qualités', 'quand', 'quant', 'quantité', 'quantités', 'quarante', 'quart', 'quartier', 'quartierplus', 'quartiers', 'quasi', 'quasiment', 'quatre', 'que', 'quel', 'quelconque', 'quelconques', 'quelle', 'quelqu', 'quelque', 'quelques', 'quels', 'quenelle', 'quenelles', 'quentin', 'quesadilla', 'question', 'questions', 'queue', 'queues', 'qui', 'quilles', 'quinoa', 'quitte', 'quitter', 'quitté', 'quoi', 'quoiqu', 'quoique', 'rables', 'raccrocher', 'raccrohe', 'rachitique', 'racine', 'racolleur', 'radieux', 'raffinement', 'raffiné', 'raffinée', 'raffinéedesserts', 'raffinées', 'raffinéetout', 'raffinés', 'rafiné', 'rafinés', 'raie', 'raisins', 'raison', 'raisonnable', 'raisonnables', 'rajoute', 'rajouter', 'rajoutez', 'rajouté', 'rajoutée', 'ramen', 'ramens', 'ramequins', 'randonnées', 'rang', 'ranger', 'rangs', 'rapide', 'rapidement', 'rapidité', 'rappeler', 'rappelle', 'rapport', 'rapprochée', 'rapprochées', 'rare', 'rarement', 'rares', 'ras', 'rassasient', 'rassasié', 'rassasiés', 'rassemble', 'rassurant', 'ratatouille', 'rate', 'rater', 'ratez', 'rations', 'rattrapé', 'raté', 'ravi', 'ravie', 'ravies', 'raviole', 'ravioles', 'ravioli', 'raviolis', 'ravira', 'ravis', 'ravissent', 'rayé', 'rdv', 'rebords', 'rebutait', 'reception', 'recette', 'recettes', 'recevoir', 'recherchant', 'recherche', 'recherches', 'recherchions', 'recherché', 'recherchée', 'recherchées', 'rechignait', 'recommandable', 'recommandation', 'recommandations', 'recommande', 'recommandeplus', 'recommander', 'recommanderai', 'recommanderais', 'recommandons', 'recommandonsplus', 'recommandé', 'recommence', 'recommende', 'reconduits', 'reconnaissez', 'reconnaître', 'reconnue', 'recours', 'recouvertes', 'recruteur', 'recréé', 'recu', 'redemande', 'redire', 'redonner', 'redécouvrir', 'refaire', 'refait', 'reflet', 'reflètes', 'refouler', 'refus', 'refusant', 'refuser', 'regal', 'regard', 'regardant', 'regarde', 'regarder', 'regards', 'regime', 'regis', 'registre', 'regorge', 'regret', 'regrets', 'regrettable', 'regrette', 'regrettera', 'regretterez', 'regrettons', 'regretté', 'rehaussée', 'reinette', 'rejetant', 'rejoindre', 'relais', 'relater', 'relative', 'relativement', 'relaxe', 'relevées', 'relish', 'relâchez', 'relèvent', 'remarquable', 'remarquablement', 'remarquableplus', 'remarquables', 'remarque', 'remarquer', 'remarques', 'remarquons', 'remarqué', 'remercie', 'remerciements', 'remettrai', 'remettrais', 'remettre', 'remise', 'remontée', 'remplacé', 'rempli', 'remplie', 'remplir', 'remplis', 'remportés', 'rencontre', 'rencontrer', 'rencontré', 'rend', 'rendez', 'rendre', 'rends', 'rendu', 'rendue', 'rendus', 'renforcer', 'renom', 'renommée', 'renouveler', 'renouveller', 'renouvelée', 'rentable', 'rentrant', 'rentrer', 'rentrez', 'rentrons', 'rentré', 'rentrés', 'renversé', 'rené', 'repartent', 'repartie', 'repartirai', 'repartis', 'repas', 'repasc', 'repeindre', 'repond', 'reportage', 'reposé', 'reprendre', 'represente', 'reprises', 'reproche', 'représentative', 'repu', 'requièrentselon', 'resa', 'reservation', 'reserve', 'reserver', 'respect', 'respectant', 'respectueux', 'respecté', 'respectées', 'respire', 'responsable', 'responsables', 'ressemblait', 'ressemblant', 'ressemble', 'ressent', 'ressenti', 'ressort', 'restant', 'restau', 'restaurant', 'restaurants', 'restaurateur', 'restaurateurs', 'restauration', 'restaurent', 'restaurer', 'restautant', 'reste', 'restent', 'rester', 'restera', 'resterez', 'restez', 'resto', 'restopolitan', 'restos', 'restreint', 'resté', 'restée', 'restés', 'resume', 'retard', 'retaurant', 'retenir', 'retenons', 'retient', 'retirer', 'retiré', 'retour', 'retourne', 'retourner', 'retournera', 'retournerai', 'retournerais', 'retournerons', 'retourné', 'retournés', 'retours', 'retrait', 'retrouve', 'retrouvent', 'retrouver', 'retrouvons', 'retrouvé', 'retrouvée', 'retrouvés', 'revalorisées', 'revanche', 'reve', 'reveiller', 'revelation', 'revenait', 'revenir', 'revenu', 'revenus', 'reviendra', 'reviendrai', 'reviendrais', 'reviendrons', 'reviennent', 'reviens', 'revient', 'revisiter', 'revisité', 'revisitée', 'revisités', 'revoir', 'revoirnous', 'rez', 'reçois', 'reçu', 'rhum', 'rhône', 'riche', 'riches', 'richesse', 'rideau', 'ridicule', 'ridicules', 'rien', 'riesling', 'rigides', 'rigolo', 'rigueur', 'rillettes', 'ringard', 'rires', 'ris', 'risotto', 'risque', 'ritz', 'rivaliser', 'rive', 'riz', 'roblochon', 'robuchon', 'rodage', 'rodées', 'rognon', 'rognons', 'roignons', 'rois', 'romantique', 'romantisme', 'ronde', 'rondelles', 'roof', 'roomies', 'roquette', 'rose', 'roses', 'rosiers', 'rostang', 'rosé', 'roti', 'roue', 'rouge', 'rouget', 'rougets', 'roulés', 'rouquette', 'routard', 'royal', 'royale', 'royaleluxueuse', 'royalement', 'royales', 'rtl', 'rue', 'ruelle', 'rues', 'rugby', 'ruiner', 'ruisseau', 'rupture', 'rustique', 'rutilante', 'rythme', 'rythmé', 'râter', 'règne', 'réactif', 'réaction', 'réactive', 'réalisations', 'réalise', 'réaliser', 'réalisé', 'réalisée', 'réalisés', 'récemment', 'récent', 'réception', 'réchauffent', 'réchauffer', 'réchauffés', 'récidivé', 'réclame', 'réclamer', 'récole', 'réconfirme', 'récupération', 'réduction', 'réduit', 'réduite', 'réel', 'réelle', 'réellement', 'réels', 'réflexion', 'réflexions', 'réforme', 'référence', 'régal', 'régale', 'régaler', 'régalé', 'régalée', 'régalés', 'régimes', 'région', 'régis', 'régler', 'réglés', 'régressives', 'régulier', 'régulièrement', 'réinventer', 'réjouis', 'réjouit', 'rénové', 'réorienté', 'réouverture', 'répits', 'répond', 'répondait', 'réponds', 'répondu', 'réponse', 'réponses', 'république', 'répugnante', 'réputation', 'réputé', 'répéter', 'réservation', 'réservations', 'réserve', 'réserver', 'réservez', 'réservé', 'réservée', 'réservées', 'réservés', 'réside', 'résidence', 'résident', 'résister', 'résolument', 'résonnent', 'résoudre', 'résultant', 'résultat', 'résume', 'résumé', 'rétorque', 'rétro', 'rétrogradé', 'réuni', 'réunies', 'réunion', 'réunis', 'réussi', 'réussie', 'réussies', 'réussite', 'réveille', 'réveillon', 'réveillé', 'révolu', 'révolue', 'révélé', 'rêvais', 'rêve', 'rêver', 'rêvions', 'rêvé', 'rôti', 'sa', 'sable', 'sac', 'sachant', 'sachet', 'sachez', 'sacoches', 'sacré', 'sacs', 'safran', 'safranée', 'saignante', 'sain', 'sains', 'saint', 'saints', 'sais', 'saison', 'saisons', 'sait', 'saj', 'saké', 'salade', 'salades', 'sale', 'salee', 'saleté', 'salive', 'salle', 'salles', 'salon', 'salons', 'saluer', 'salé', 'salée', 'salées', 'saléplus', 'salés', 'samatan', 'samedi', 'sandre', 'sandwich', 'sandwicherie', 'sandwichs', 'sanitaires', 'sans', 'saouleront', 'sardines', 'sarrasin', 'sas', 'sashimi', 'sashimis', 'satisfaire', 'satisfaisant', 'satisfaisante', 'satisfait', 'satisfaits', 'sauce', 'sauces', 'saucé', 'sauf', 'saumon', 'saura', 'saurons', 'sautait', 'sautées', 'sauvait', 'sauve', 'sauver', 'savais', 'savait', 'savant', 'savent', 'saveur', 'saveurs', 'savez', 'savions', 'savoie', 'savoir', 'savons', 'savourer', 'savoureuse', 'savoureuses', 'savoureux', 'scalpel', 'scandale', 'scandaleux', 'sceau', 'scintiller', 'scolaire', 'scotché', 'sculptes', 'scène', 'sdf', 'se', 'seasons', 'seau', 'sec', 'second', 'seconde', 'secret', 'secs', 'seduire', 'seiche', 'seine', 'seizième', 'sel', 'select', 'selection', 'selon', 'semaine', 'semaines', 'semblait', 'semblant', 'semble', 'semblent', 'semblé', 'semelle', 'semoule', 'sen', 'senderens', 'sens', 'sensation', 'sensationnel', 'sensations', 'sensibilisée', 'sensible', 'sensé', 'sent', 'sentait', 'senti', 'sentiment', 'sentions', 'sentir', 'sentis', 'sentons', 'sept', 'septembre', 'septime', 'sera', 'seraient', 'serait', 'sercice', 'serez', 'sergent', 'serré', 'serrées', 'serrés', 'sert', 'servait', 'servant', 'servent', 'serveur', 'serveurs', 'serveuse', 'serveuses', 'servi', 'serviable', 'serviables', 'service', 'services', 'servie', 'servies', 'serviette', 'servir', 'servis', 'ses', 'set', 'sets', 'seul', 'seule', 'seulement', 'seules', 'seuls', 'show', 'si', 'side', 'sidéré', 'siecle', 'sien', 'signalé', 'signature', 'signatures', 'signe', 'significative', 'signifie', 'signifié', 'silla', 'similaires', 'simple', 'simplement', 'simples', 'simplette', 'simplicité', 'sincère', 'sincèrement', 'sinon', 'siplus', 'site', 'situation', 'situe', 'situé', 'située', 'sitôt', 'six', 'siècle', 'sièges', 'slim', 'snack', 'snacké', 'snob', 'sobre', 'sociable', 'sodas', 'soeur', 'soi', 'soient', 'soigne', 'soigneusement', 'soigné', 'soignée', 'soin', 'soinplus', 'soins', 'soir', 'soiree', 'soirée', 'sois', 'soit', 'soja', 'sol', 'sole', 'soleil', 'soles', 'sollicitationcuisine', 'sombre', 'somme', 'sommelier', 'sommeliers', 'sommelière', 'sommes', 'sommet', 'somptueuse', 'somptueux', 'son', 'sonore', 'sonorités', 'sont', 'sophie', 'sorbonne', 'sors', 'sort', 'sortaient', 'sortant', 'sorte', 'sortent', 'sortes', 'sorti', 'sortie', 'sorties', 'sortir', 'sortis', 'souci', 'soucieux', 'soucis', 'soufflant', 'souffle', 'soufflé', 'soufflée', 'souffrir', 'souhait', 'souhaite', 'souhaitent', 'souhaitez', 'souhaitions', 'souhaits', 'souhaité', 'soumis', 'soupe', 'souper', 'soupes', 'soupçon', 'sourcés', 'souri', 'souriant', 'souriante', 'souriants', 'sourire', 'sourirerapiditéefficacitéqualité', 'sourires', 'souris', 'sourit', 'sous', 'souvenir', 'souvenirs', 'souvent', 'souviendra', 'soyons', 'spacieuses', 'spacieux', 'spartacus', 'spartiate', 'specialités', 'specificités', 'spectacle', 'spectaculaire', 'spiritueux', 'splendeur', 'splendide', 'spot', 'spécial', 'spéciale', 'spécialement', 'spécialisé', 'spécialité', 'spécialités', 'spécifiques', 'spécifié', 'square', 'squelettique', 'st', 'stable', 'staff', 'stagiaires', 'standards', 'standing', 'steak', 'steakhouses', 'steaks', 'stick', 'street', 'stress', 'structures', 'style', 'stéréotypes', 'su', 'subiile', 'sublime', 'sublimer', 'sublimes', 'sublimespigeon', 'sublimé', 'sublimées', 'substance', 'subtil', 'subtile', 'subtilement', 'subtiles', 'subtilité', 'subtils', 'succession', 'succulent', 'succulente', 'succulentes', 'succulents', 'succèdent', 'succès', 'sucre', 'sucrees', 'sucré', 'sucrée', 'sucrées', 'sucrés', 'sucs', 'sud', 'suffisamment', 'suffisant', 'suffisantes', 'suffit', 'suggestions', 'suggéré', 'suis', 'suit', 'suite', 'suivant', 'suivante', 'suivants', 'suivent', 'suivi', 'suivies', 'suivis', 'suivons', 'suivre', 'suki', 'sulfurisé', 'super', 'superbe', 'superbement', 'superbes', 'superlatifs', 'supermarché', 'superposé', 'supers', 'supervisée', 'supplément', 'supplémentaire', 'suppléments', 'supplémnt', 'supportable', 'supporter', 'supports', 'supposé', 'supposée', 'suprenant', 'suprise', 'suprême', 'supérieure', 'sur', 'surannée', 'surchargée', 'surcroît', 'surestimée', 'surface', 'surfait', 'surfaite', 'surgeles', 'surgelé', 'surgelés', 'surprenant', 'surprenante', 'surprenantes', 'surprenants', 'surprendre', 'surpris', 'surprise', 'surprises', 'surtout', 'suscite', 'sushi', 'sushis', 'suzette', 'suzettes', 'sylvestre', 'sympa', 'sympas', 'sympathie', 'sympathique', 'sympathiques', 'sympatique', 'symphonie', 'synchronisation', 'syrah', 'système', 'systématiquement', 'sèche', 'sèchement', 'sèches', 'séduire', 'séduisante', 'séduisants', 'séduit', 'séjour', 'séjourné', 'sélection', 'sélectionnés', 'séminaire', 'séparer', 'série', 'sérieusement', 'sérieux', 'sévère', 'sûr', 'sûre', 'sûrement', 'sœur', 'ta', 'tabasser', 'table', 'tables', 'tablesplus', 'tablette', 'tabouleh', 'taboulé', 'tabourets', 'taché', 'tacos', 'tact', 'taille', 'tailles', 'taillés', 'taire', 'takayagani', 'talent', 'talentueux', 'talons', 'tamisée', 'tandis', 'tant', 'tantes', 'tapas', 'tape', 'tapissés', 'tarbais', 'tard', 'tarif', 'tarifs', 'tarot', 'tartare', 'tartares', 'tarte', 'tartine', 'tartines', 'tas', 'tasse', 'tasty', 'tat', 'tata', 'taïwanais', 'te', 'tea', 'teamkangourou', 'technique', 'tel', 'telle', 'tellement', 'telles', 'tels', 'temps', 'tempura', 'température', 'tenait', 'tendance', 'tendre', 'tendrele', 'tendresse', 'teneur', 'teniendo', 'tentante', 'tentatives', 'tente', 'tenter', 'tenture', 'tenu', 'tenue', 'teppan', 'teppanyaki', 'terasse', 'tergiverser', 'teriyaki', 'terme', 'termes', 'terminer', 'terminé', 'terminée', 'terrail', 'terrasse', 'terre', 'terres', 'terrible', 'terrible5', 'terrines', 'terroristes', 'tes', 'test', 'teste', 'tester', 'testé', 'testés', 'textures', 'thaï', 'the', 'theâtre', 'thhis', 'thierry', 'thon', 'thème', 'thé', 'théatre', 'thélème', 'théâtre', 'théâtres', 'tibétaine', 'ticket', 'tienne', 'tiennent', 'tiens', 'tient', 'tika', 'tikka', 'time', 'timé', 'tiramisu', 'tirelire', 'tissu', 'titille', 'titre', 'titres', 'tiède', 'tièdes', 'tj', 'tjrs', 'tjs', 'toasté', 'toastés', 'toi', 'toilettes', 'toit', 'toits', 'tokyo', 'tomate', 'tomates', 'tombais', 'tombe', 'tombent', 'tomber', 'tombons', 'tombé', 'tombée', 'tombés', 'ton', 'tonitruantes', 'top', 'topinambour', 'toppersonnel', 'tops', 'toqué', 'tot', 'total', 'totale', 'totalement', 'touche', 'touchent', 'toucher', 'touches', 'touchés', 'toujours', 'toulousainesmais', 'tour', 'tourisme', 'touriste', 'touristes', 'touristiques', 'tourné', 'tourte', 'tourteau', 'tourteaux', 'tous', 'tout', 'toutain', 'toute', 'toutefois', 'toutes', 'touthenkamon', 'tradition', 'traditionnel', 'traditionnelle', 'traditionnelles', 'traditionnels', 'traditions', 'train', 'trainer', 'traite', 'traiteur', 'traité', 'traités', 'trajet', 'tranche', 'tranchent', 'tranches', 'tranquille', 'transmets', 'transormés', 'transpiration', 'transporte', 'transportée', 'transportés', 'traumatisante', 'travail', 'travaille', 'travaillez', 'travaillé', 'travaillée', 'travaillées', 'travaillés', 'travaux', 'travers', 'traverser', 'trempée', 'trente', 'tres', 'triomphe', 'trip', 'tripadvisor', 'triste', 'tristesse', 'trivial', 'trocadéro', 'trois', 'troisième', 'trompent', 'trop', 'tropez', 'trottoir', 'trouvailles', 'trouvant', 'trouve', 'trouvent', 'trouver', 'trouverez', 'trouvé', 'trouvée', 'trouvées', 'trouvés', 'truc', 'truffe', 'truffes', 'truffés', 'truite', 'très', 'trèstrèsdécevant', 'trés', 'trésor', 'trône', 'ttripadvisor', 'tu', 'tuer', 'tuerie', 'tueries', 'tuiles', 'tumulte', 'turbot', 'turnover', 'type', 'types', 'typique', 'typiques', 'tâches', 'téléphonant', 'téléphone', 'téléphones', 'télérama', 'témoin', 'témoins', 'térail', 'tête', 'tôt', 'ultra', 'un', 'unanime', 'unanimes', 'underground', 'une', 'unes', 'unique', 'uniquement', 'uniques', 'universitaire', 'uns', 'urgence', 'usage', 'usurpé', 'utilise', 'va', 'vacance', 'vacances', 'vache', 'vaguement', 'vais', 'vaisselle', 'vaissellecouvertssalle', 'valait', 'valentin', 'valeur', 'validés', 'vanille', 'vanté', 'vaqueras', 'varie', 'variee', 'varier', 'varié', 'variée', 'variées', 'variés', 'variété', 'variétés', 'vas', 'vaut', 'veau', 'veaucoquilles', 'veaux', 'vegan', 'vegeburger', 'vegetal', 'veille', 'venait', 'venant', 'vende', 'vendent', 'vendeur', 'vendeuse', 'vendeuses', 'vendredi', 'vendôme', 'venez', 'venions', 'venir', 'venons', 'vent', 'vente', 'ventre', 'venu', 'venue', 'venues', 'venus', 'verdure', 'vergelesses', 'verra', 'verre', 'verres', 'verres4', 'verrez', 'verrière', 'vers', 'versailles', 'versatile', 'version', 'versus', 'vert', 'verts', 'veste', 'vestiaire', 'vestimentaire', 'veulent', 'veut', 'veux', 'via', 'viande', 'viandes', 'victime', 'victoires', 'vide', 'vie', 'vieil', 'vieille', 'vieillot', 'viendriez', 'vienne', 'viennoiserie', 'viennoiseries', 'vienoiseries', 'viens', 'vient', 'vietnamienne', 'vieux', 'vigato', 'village', 'ville', 'vin', 'vinaigre', 'vinaigrette', 'vinaigrée', 'vincent', 'vingt', 'vingtaine', 'vinle', 'vins', 'vinsur', 'vintage', 'vire', 'virtus', 'virés', 'vis', 'visible', 'visiblement', 'vision', 'visite', 'visiter', 'visites', 'visiteurs', 'visité', 'visitée', 'visuel', 'visuelle', 'visé', 'vit', 'vite', 'vitesse', 'vitrée', 'vitrées', 'vivant', 'vivants', 'vivement', 'vivienne', 'vivons', 'vivre', 'vodka', 'voici', 'voie', 'voient', 'voila', 'voilà', 'voir', 'voire', 'vois', 'voisine', 'voisins', 'voit', 'voiture', 'voiturier', 'voix', 'vol', 'volaille', 'volontier', 'volontiers', 'volonté', 'voluptueux', 'vont', 'vos', 'vosges', 'votre', 'voudrait', 'voulais', 'voulait', 'voulant', 'voulez', 'voulions', 'voulo', 'vouloir', 'voulons', 'voulu', 'vous', 'voyage', 'voyageais', 'voyager', 'voyageurs', 'voyagez', 'voyagé', 'voyant', 'voyons', 'vrai', 'vraie', 'vraies', 'vraiment', 'vrais', 'vraissemblablement', 'vu', 'vue', 'vues', 'vulgaire', 'vulgairement', 'vulgaires', 'vécu', 'végans', 'végé', 'végés', 'végétal', 'végétaliens', 'végétarien', 'végétarienne', 'végétariennes', 'végétariens', 'végétaux', 'vélo', 'vérifier', 'vérifié', 'véritable', 'véritablement', 'vétusté', 'wagyu', 'wahoo', 'waouw', 'wc', 'we', 'web', 'week', 'weekend', 'whaou', 'wifi', 'william', 'wine', 'wines', 'with', 'wola', 'wow', 'xixe', 'xve', 'xvème', 'xxi', 'ya', 'yaki', 'yakitori', 'yaourt', 'yen', 'yeux', 'yoshitaka', 'yuzu', 'ze', 'zen', 'zkg', 'zone', 'zors', 'zouzou', 'à13', 'âges', 'âme', 'ça', 'çe', 'çi', 'çà', 'ème', 'ébahis', 'éblouissement', 'écart', 'écarter', 'échalote', 'échanger', 'échanges', 'échantillons', 'échelle', 'écho', 'échoppe', 'éclair', 'éclairage', 'éclats', 'éclectique', 'éco', 'école', 'écoles', 'économies', 'écorchant', 'écoute', 'écouter', 'écoutez', 'écrevisse', 'écrin', 'écrire', 'écris', 'écrit', 'écrits', 'écrivais', 'écœurant', 'écœurants', 'égale', 'également', 'égard', 'égayé', 'élaboration', 'élaboré', 'élaborée', 'élaborées', 'éleve', 'élevé', 'élevée', 'élevés', 'élitiste', 'éloges', 'élogieuses', 'élogieux', 'éloigner', 'éloignée', 'éloignées', 'élève', 'élégamment', 'élégance', 'élégant', 'élégante', 'élégantpersonnel', 'éléments', 'émerveille', 'émerveillement', 'émerveillé', 'émincé', 'émis', 'émission', 'émotion', 'émotions', 'émulsion', 'énergie', 'énergique', 'énergétique', 'énoncé', 'énorme', 'énormes', 'épais', 'épaisse', 'épaté', 'épatés', 'épaule', 'épicerie', 'épices', 'épicurien', 'épicuriens', 'épicé', 'épicée', 'épicéesmais', 'épicés', 'épinards', 'épisode', 'époque', 'épouse', 'époustouflante', 'époustouflantes', 'époustoufler', 'épuré', 'épurée', 'épuréz', 'équilibre', 'équilibré', 'équilibrée', 'équilibrées', 'équilibrés', 'équipe', 'équipes', 'équipé', 'équivaut', 'éric', 'érudit', 'érythréen', 'ét', 'établi', 'établissement', 'établissementidéalement', 'établissements', 'étage', 'étagères', 'étaient', 'étais', 'était', 'étant', 'étape', 'étapes', 'état', 'états', 'étendu', 'éthique', 'étions', 'étoile', 'étoiles', 'étoilé', 'étoilée', 'étoilés', 'étonnamment', 'étonnant', 'étonnante', 'étonné', 'étonnée', 'étouffante', 'étouffe', 'étranger', 'étrangers', 'étriquée', 'étroit', 'étroite', 'étroites', 'étudiant', 'étudiants', 'étudie', 'étudié', 'étudiées', 'étui', 'été', 'étés', 'évasion', 'éveillent', 'éventé', 'évidement', 'évidemment', 'évidence', 'évident', 'évitant', 'évite', 'éviter', 'évitez', 'évocateurs', 'évolue', 'évolution', 'évoque', 'événement', 'êtes', 'être', 'île', 'œil', 'œuf', 'œufs', 'œuvre']\n",
      "(1617, 6401)\n"
     ]
    }
   ],
   "source": [
    "from sklearn.feature_extraction.text import TfidfVectorizer\n",
    "\n",
    "vectorizer = TfidfVectorizer()\n",
    "X = vectorizer.fit_transform(X)\n",
    "print(vectorizer.get_feature_names())\n",
    "\n",
    "\n",
    "print(X.shape)\n"
   ]
  },
  {
   "cell_type": "code",
   "execution_count": 62,
   "metadata": {},
   "outputs": [
    {
     "ename": "ModuleNotFoundError",
     "evalue": "No module named 'polyglot'",
     "output_type": "error",
     "traceback": [
      "\u001b[1;31m---------------------------------------------------------------------------\u001b[0m",
      "\u001b[1;31mModuleNotFoundError\u001b[0m                       Traceback (most recent call last)",
      "\u001b[1;32m<ipython-input-62-7f48181d8196>\u001b[0m in \u001b[0;36m<module>\u001b[1;34m\u001b[0m\n\u001b[1;32m----> 1\u001b[1;33m \u001b[1;32mfrom\u001b[0m \u001b[0mpolyglot\u001b[0m\u001b[1;33m.\u001b[0m\u001b[0mdownloader\u001b[0m \u001b[1;32mimport\u001b[0m \u001b[0mdownloader\u001b[0m\u001b[1;33m\u001b[0m\u001b[1;33m\u001b[0m\u001b[0m\n\u001b[0m\u001b[0;32m      2\u001b[0m \u001b[0mprint\u001b[0m\u001b[1;33m(\u001b[0m\u001b[0mdownloader\u001b[0m\u001b[1;33m.\u001b[0m\u001b[0msupported_languages_table\u001b[0m\u001b[1;33m(\u001b[0m\u001b[1;34m\"sentiment2\"\u001b[0m\u001b[1;33m,\u001b[0m \u001b[1;36m3\u001b[0m\u001b[1;33m)\u001b[0m\u001b[1;33m)\u001b[0m\u001b[1;33m\u001b[0m\u001b[1;33m\u001b[0m\u001b[0m\n\u001b[0;32m      3\u001b[0m \u001b[1;33m\u001b[0m\u001b[0m\n",
      "\u001b[1;31mModuleNotFoundError\u001b[0m: No module named 'polyglot'"
     ]
    }
   ],
   "source": [
    "\n",
    "\n",
    "from polyglot.downloader import downloader\n",
    "print(downloader.supported_languages_table(\"sentiment2\", 3))\n",
    "\n"
   ]
  },
  {
   "cell_type": "code",
   "execution_count": null,
   "metadata": {},
   "outputs": [],
   "source": []
  }
 ],
 "metadata": {
  "kernelspec": {
   "display_name": "Python 3",
   "language": "python",
   "name": "python3"
  },
  "language_info": {
   "codemirror_mode": {
    "name": "ipython",
    "version": 3
   },
   "file_extension": ".py",
   "mimetype": "text/x-python",
   "name": "python",
   "nbconvert_exporter": "python",
   "pygments_lexer": "ipython3",
   "version": "3.7.6"
  }
 },
 "nbformat": 4,
 "nbformat_minor": 4
}
