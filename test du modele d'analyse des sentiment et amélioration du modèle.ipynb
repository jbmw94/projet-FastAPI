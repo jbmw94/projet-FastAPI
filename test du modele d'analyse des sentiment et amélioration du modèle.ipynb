{
 "cells": [
  {
   "cell_type": "code",
   "execution_count": 13,
   "metadata": {},
   "outputs": [
    {
     "name": "stdout",
     "output_type": "stream",
     "text": [
      "Requirement already up-to-date: scikit-learn in c:\\users\\utilisateur\\anaconda3\\lib\\site-packages (0.24.1)\n",
      "Requirement already satisfied, skipping upgrade: threadpoolctl>=2.0.0 in c:\\users\\utilisateur\\anaconda3\\lib\\site-packages (from scikit-learn) (2.1.0)\n",
      "Requirement already satisfied, skipping upgrade: scipy>=0.19.1 in c:\\users\\utilisateur\\anaconda3\\lib\\site-packages (from scikit-learn) (1.4.1)\n",
      "Requirement already satisfied, skipping upgrade: joblib>=0.11 in c:\\users\\utilisateur\\anaconda3\\lib\\site-packages (from scikit-learn) (0.14.1)\n",
      "Requirement already satisfied, skipping upgrade: numpy>=1.13.3 in c:\\users\\utilisateur\\anaconda3\\lib\\site-packages (from scikit-learn) (1.18.1)\n",
      "Note: you may need to restart the kernel to use updated packages.\n"
     ]
    }
   ],
   "source": [
    "pip install --upgrade scikit-learn"
   ]
  },
  {
   "cell_type": "code",
   "execution_count": 1,
   "metadata": {},
   "outputs": [],
   "source": [
    "import joblib\n",
    "import pandas as pd \n",
    "from sklearn.model_selection import train_test_split \n",
    "from sklearn.metrics import roc_auc_score, f1_score,classification_report\n",
    "from sklearn.model_selection import train_test_split \n",
    "from sklearn.model_selection import GridSearchCV\n",
    "from sklearn.pipeline import Pipeline\n",
    "from sklearn.feature_extraction.text import TfidfVectorizer\n",
    "from sklearn.svm import SVC\n",
    "from joblib import dump"
   ]
  },
  {
   "cell_type": "code",
   "execution_count": 2,
   "metadata": {},
   "outputs": [
    {
     "name": "stderr",
     "output_type": "stream",
     "text": [
      "C:\\Users\\utilisateur\\anaconda3\\lib\\site-packages\\sklearn\\base.py:315: UserWarning: Trying to unpickle estimator TfidfTransformer from version 0.23.2 when using version 0.24.1. This might lead to breaking code or invalid results. Use at your own risk.\n",
      "  UserWarning)\n",
      "C:\\Users\\utilisateur\\anaconda3\\lib\\site-packages\\sklearn\\base.py:315: UserWarning: Trying to unpickle estimator TfidfVectorizer from version 0.23.2 when using version 0.24.1. This might lead to breaking code or invalid results. Use at your own risk.\n",
      "  UserWarning)\n",
      "C:\\Users\\utilisateur\\anaconda3\\lib\\site-packages\\sklearn\\base.py:315: UserWarning: Trying to unpickle estimator SVC from version 0.23.2 when using version 0.24.1. This might lead to breaking code or invalid results. Use at your own risk.\n",
      "  UserWarning)\n",
      "C:\\Users\\utilisateur\\anaconda3\\lib\\site-packages\\sklearn\\base.py:315: UserWarning: Trying to unpickle estimator Pipeline from version 0.23.2 when using version 0.24.1. This might lead to breaking code or invalid results. Use at your own risk.\n",
      "  UserWarning)\n"
     ]
    },
    {
     "data": {
      "text/plain": [
       "Pipeline(steps=[('tfidf', TfidfVectorizer()),\n",
       "                ('clf', SVC(C=1000, gamma=0.001))])"
      ]
     },
     "execution_count": 2,
     "metadata": {},
     "output_type": "execute_result"
    }
   ],
   "source": [
    "#Import de la pipeline utilisée dans l'API et du jeu de données contenant les commentaites. Affichage de la\n",
    "#pipeline pour étudier son contenu\n",
    "\n",
    "modele=joblib.load(\"sentiment_pipe.joblib\")\n",
    "df=pd.read_csv(\"comments_train.csv\")\n",
    "modele"
   ]
  },
  {
   "cell_type": "code",
   "execution_count": 3,
   "metadata": {},
   "outputs": [
    {
     "data": {
      "text/plain": [
       "Positive    1019\n",
       "Negative     598\n",
       "Name: sentiment, dtype: int64"
      ]
     },
     "execution_count": 3,
     "metadata": {},
     "output_type": "execute_result"
    }
   ],
   "source": [
    "#affichage du dataset, on voit un net déséquilibre entre les réponse\n",
    "#positive et négéative\n",
    "df = pd.read_csv('comments_train.csv')\n",
    "X,y = df['comment'], df['sentiment'] \n",
    "df[\"sentiment\"].value_counts()"
   ]
  },
  {
   "cell_type": "code",
   "execution_count": 4,
   "metadata": {},
   "outputs": [
    {
     "name": "stdout",
     "output_type": "stream",
     "text": [
      "AUC : 0.7220142706749327\n",
      "\n",
      "              precision    recall  f1-score   support\n",
      "\n",
      "           0       0.26      0.76      0.39       206\n",
      "           1       0.95      0.69      0.80      1411\n",
      "\n",
      "    accuracy                           0.70      1617\n",
      "   macro avg       0.61      0.72      0.59      1617\n",
      "weighted avg       0.86      0.70      0.75      1617\n",
      "\n"
     ]
    }
   ],
   "source": [
    "#on définit ypred et on labellise de manière binaire\n",
    "#la colonne sentiment du dataset, pour pouvoir faire l'auc\n",
    "y_pred = modele.predict(X)\n",
    "y=df[\"sentiment\"].replace({\"Positive\":1, \"Negative\":0}).values\n",
    "resume=classification_report(y_pred, y)\n",
    "roc_score=roc_auc_score(y_pred, y)\n",
    "print(\"AUC : {}\".format(roc_score))\n",
    "print()\n",
    "print(resume)"
   ]
  },
  {
   "cell_type": "code",
   "execution_count": null,
   "metadata": {},
   "outputs": [],
   "source": [
    "#on peut voir ci-dessu le score optenu avec \n",
    "#les réponse négative étant mal reconnus contrairement au positive"
   ]
  },
  {
   "cell_type": "code",
   "execution_count": 44,
   "metadata": {},
   "outputs": [
    {
     "name": "stdout",
     "output_type": "stream",
     "text": [
      "              precision    recall  f1-score   support\n",
      "\n",
      "           0       0.85      0.74      0.79       202\n",
      "           1       0.85      0.92      0.89       332\n",
      "\n",
      "    accuracy                           0.85       534\n",
      "   macro avg       0.85      0.83      0.84       534\n",
      "weighted avg       0.85      0.85      0.85       534\n",
      "\n",
      "AUC :  0.9279046880591674\n"
     ]
    }
   ],
   "source": [
    "#on réentraine le modèle a partir du dataset\n",
    "X_train, X_test, y_train, y_test = train_test_split(X, y, test_size=0.33, random_state=42)\n",
    "modele.fit(X_train,y_train)\n",
    "y_pred=modele.predict(X_test)\n",
    "print(classification_report(y_test, y_pred,zero_division=1))\n",
    "y_pred2=modele.decision_function(X_test)\n",
    "roc_score=roc_auc_score(y_test,y_pred2)\n",
    "print(\"AUC : \",roc_score)"
   ]
  },
  {
   "cell_type": "code",
   "execution_count": 46,
   "metadata": {},
   "outputs": [],
   "source": [
    "#on peut voir que le réentrainement a amélioré la prediction, \n",
    "#notament sur la prédiction négative marqué par 0 ainsi que l'auc"
   ]
  },
  {
   "cell_type": "code",
   "execution_count": 47,
   "metadata": {},
   "outputs": [
    {
     "data": {
      "text/plain": [
       "{'memory': None,\n",
       " 'steps': [('tfidf', TfidfVectorizer()), ('clf', SVC(C=1000, gamma=0.001))],\n",
       " 'verbose': False,\n",
       " 'tfidf': TfidfVectorizer(),\n",
       " 'clf': SVC(C=1000, gamma=0.001),\n",
       " 'tfidf__analyzer': 'word',\n",
       " 'tfidf__binary': False,\n",
       " 'tfidf__decode_error': 'strict',\n",
       " 'tfidf__dtype': numpy.float64,\n",
       " 'tfidf__encoding': 'utf-8',\n",
       " 'tfidf__input': 'content',\n",
       " 'tfidf__lowercase': True,\n",
       " 'tfidf__max_df': 1.0,\n",
       " 'tfidf__max_features': None,\n",
       " 'tfidf__min_df': 1,\n",
       " 'tfidf__ngram_range': (1, 1),\n",
       " 'tfidf__norm': 'l2',\n",
       " 'tfidf__preprocessor': None,\n",
       " 'tfidf__smooth_idf': True,\n",
       " 'tfidf__stop_words': None,\n",
       " 'tfidf__strip_accents': None,\n",
       " 'tfidf__sublinear_tf': False,\n",
       " 'tfidf__token_pattern': '(?u)\\\\b\\\\w\\\\w+\\\\b',\n",
       " 'tfidf__tokenizer': None,\n",
       " 'tfidf__use_idf': True,\n",
       " 'tfidf__vocabulary': None,\n",
       " 'clf__C': 1000,\n",
       " 'clf__break_ties': False,\n",
       " 'clf__cache_size': 200,\n",
       " 'clf__class_weight': None,\n",
       " 'clf__coef0': 0.0,\n",
       " 'clf__decision_function_shape': 'ovr',\n",
       " 'clf__degree': 3,\n",
       " 'clf__gamma': 0.001,\n",
       " 'clf__kernel': 'rbf',\n",
       " 'clf__max_iter': -1,\n",
       " 'clf__probability': False,\n",
       " 'clf__random_state': None,\n",
       " 'clf__shrinking': True,\n",
       " 'clf__tol': 0.001,\n",
       " 'clf__verbose': False}"
      ]
     },
     "execution_count": 47,
     "metadata": {},
     "output_type": "execute_result"
    }
   ],
   "source": [
    "# Afin de permettre l'amélioration de la pipeline, on affiche ses paramètres. \n",
    "\n",
    "modele.get_params()"
   ]
  },
  {
   "cell_type": "code",
   "execution_count": 50,
   "metadata": {},
   "outputs": [
    {
     "name": "stdout",
     "output_type": "stream",
     "text": [
      "Fitting 5 folds for each of 27 candidates, totalling 135 fits\n",
      "[CV 1/5] END clf__C=1000, clf__gamma=0.001, clf__kernel=sigmoid, clf__random_state=42; total time=   0.4s\n",
      "[CV 2/5] END clf__C=1000, clf__gamma=0.001, clf__kernel=sigmoid, clf__random_state=42; total time=   0.3s\n",
      "[CV 3/5] END clf__C=1000, clf__gamma=0.001, clf__kernel=sigmoid, clf__random_state=42; total time=   0.3s\n",
      "[CV 4/5] END clf__C=1000, clf__gamma=0.001, clf__kernel=sigmoid, clf__random_state=42; total time=   0.6s\n",
      "[CV 5/5] END clf__C=1000, clf__gamma=0.001, clf__kernel=sigmoid, clf__random_state=42; total time=   0.2s\n",
      "[CV 1/5] END clf__C=1000, clf__gamma=0.001, clf__kernel=rbf, clf__random_state=42; total time=   0.3s\n",
      "[CV 2/5] END clf__C=1000, clf__gamma=0.001, clf__kernel=rbf, clf__random_state=42; total time=   0.3s\n",
      "[CV 3/5] END clf__C=1000, clf__gamma=0.001, clf__kernel=rbf, clf__random_state=42; total time=   0.3s\n",
      "[CV 4/5] END clf__C=1000, clf__gamma=0.001, clf__kernel=rbf, clf__random_state=42; total time=   0.3s\n",
      "[CV 5/5] END clf__C=1000, clf__gamma=0.001, clf__kernel=rbf, clf__random_state=42; total time=   0.3s\n",
      "[CV 1/5] END clf__C=1000, clf__gamma=0.001, clf__kernel=poly, clf__random_state=42; total time=   0.2s\n",
      "[CV 2/5] END clf__C=1000, clf__gamma=0.001, clf__kernel=poly, clf__random_state=42; total time=   0.2s\n",
      "[CV 3/5] END clf__C=1000, clf__gamma=0.001, clf__kernel=poly, clf__random_state=42; total time=   0.2s\n",
      "[CV 4/5] END clf__C=1000, clf__gamma=0.001, clf__kernel=poly, clf__random_state=42; total time=   0.2s\n",
      "[CV 5/5] END clf__C=1000, clf__gamma=0.001, clf__kernel=poly, clf__random_state=42; total time=   0.2s\n",
      "[CV 1/5] END clf__C=1000, clf__gamma=0.01, clf__kernel=sigmoid, clf__random_state=42; total time=   0.3s\n",
      "[CV 2/5] END clf__C=1000, clf__gamma=0.01, clf__kernel=sigmoid, clf__random_state=42; total time=   0.4s\n",
      "[CV 3/5] END clf__C=1000, clf__gamma=0.01, clf__kernel=sigmoid, clf__random_state=42; total time=   0.3s\n",
      "[CV 4/5] END clf__C=1000, clf__gamma=0.01, clf__kernel=sigmoid, clf__random_state=42; total time=   0.3s\n",
      "[CV 5/5] END clf__C=1000, clf__gamma=0.01, clf__kernel=sigmoid, clf__random_state=42; total time=   0.4s\n",
      "[CV 1/5] END clf__C=1000, clf__gamma=0.01, clf__kernel=rbf, clf__random_state=42; total time=   0.4s\n",
      "[CV 2/5] END clf__C=1000, clf__gamma=0.01, clf__kernel=rbf, clf__random_state=42; total time=   0.5s\n",
      "[CV 3/5] END clf__C=1000, clf__gamma=0.01, clf__kernel=rbf, clf__random_state=42; total time=   0.4s\n",
      "[CV 4/5] END clf__C=1000, clf__gamma=0.01, clf__kernel=rbf, clf__random_state=42; total time=   0.3s\n",
      "[CV 5/5] END clf__C=1000, clf__gamma=0.01, clf__kernel=rbf, clf__random_state=42; total time=   0.3s\n",
      "[CV 1/5] END clf__C=1000, clf__gamma=0.01, clf__kernel=poly, clf__random_state=42; total time=   0.3s\n",
      "[CV 2/5] END clf__C=1000, clf__gamma=0.01, clf__kernel=poly, clf__random_state=42; total time=   0.3s\n",
      "[CV 3/5] END clf__C=1000, clf__gamma=0.01, clf__kernel=poly, clf__random_state=42; total time=   0.3s\n",
      "[CV 4/5] END clf__C=1000, clf__gamma=0.01, clf__kernel=poly, clf__random_state=42; total time=   0.3s\n",
      "[CV 5/5] END clf__C=1000, clf__gamma=0.01, clf__kernel=poly, clf__random_state=42; total time=   0.3s\n",
      "[CV 1/5] END clf__C=1000, clf__gamma=0.1, clf__kernel=sigmoid, clf__random_state=42; total time=   0.4s\n",
      "[CV 2/5] END clf__C=1000, clf__gamma=0.1, clf__kernel=sigmoid, clf__random_state=42; total time=   0.3s\n",
      "[CV 3/5] END clf__C=1000, clf__gamma=0.1, clf__kernel=sigmoid, clf__random_state=42; total time=   0.3s\n",
      "[CV 4/5] END clf__C=1000, clf__gamma=0.1, clf__kernel=sigmoid, clf__random_state=42; total time=   0.3s\n",
      "[CV 5/5] END clf__C=1000, clf__gamma=0.1, clf__kernel=sigmoid, clf__random_state=42; total time=   0.3s\n",
      "[CV 1/5] END clf__C=1000, clf__gamma=0.1, clf__kernel=rbf, clf__random_state=42; total time=   0.3s\n",
      "[CV 2/5] END clf__C=1000, clf__gamma=0.1, clf__kernel=rbf, clf__random_state=42; total time=   0.3s\n",
      "[CV 3/5] END clf__C=1000, clf__gamma=0.1, clf__kernel=rbf, clf__random_state=42; total time=   0.4s\n",
      "[CV 4/5] END clf__C=1000, clf__gamma=0.1, clf__kernel=rbf, clf__random_state=42; total time=   0.3s\n",
      "[CV 5/5] END clf__C=1000, clf__gamma=0.1, clf__kernel=rbf, clf__random_state=42; total time=   0.4s\n",
      "[CV 1/5] END clf__C=1000, clf__gamma=0.1, clf__kernel=poly, clf__random_state=42; total time=   0.4s\n",
      "[CV 2/5] END clf__C=1000, clf__gamma=0.1, clf__kernel=poly, clf__random_state=42; total time=   0.4s\n",
      "[CV 3/5] END clf__C=1000, clf__gamma=0.1, clf__kernel=poly, clf__random_state=42; total time=   0.4s\n",
      "[CV 4/5] END clf__C=1000, clf__gamma=0.1, clf__kernel=poly, clf__random_state=42; total time=   0.4s\n",
      "[CV 5/5] END clf__C=1000, clf__gamma=0.1, clf__kernel=poly, clf__random_state=42; total time=   0.5s\n",
      "[CV 1/5] END clf__C=1000000.0, clf__gamma=0.001, clf__kernel=sigmoid, clf__random_state=42; total time=   0.4s\n",
      "[CV 2/5] END clf__C=1000000.0, clf__gamma=0.001, clf__kernel=sigmoid, clf__random_state=42; total time=   0.4s\n",
      "[CV 3/5] END clf__C=1000000.0, clf__gamma=0.001, clf__kernel=sigmoid, clf__random_state=42; total time=   0.8s\n",
      "[CV 4/5] END clf__C=1000000.0, clf__gamma=0.001, clf__kernel=sigmoid, clf__random_state=42; total time=   0.6s\n",
      "[CV 5/5] END clf__C=1000000.0, clf__gamma=0.001, clf__kernel=sigmoid, clf__random_state=42; total time=   0.4s\n",
      "[CV 1/5] END clf__C=1000000.0, clf__gamma=0.001, clf__kernel=rbf, clf__random_state=42; total time=   0.4s\n",
      "[CV 2/5] END clf__C=1000000.0, clf__gamma=0.001, clf__kernel=rbf, clf__random_state=42; total time=   0.4s\n",
      "[CV 3/5] END clf__C=1000000.0, clf__gamma=0.001, clf__kernel=rbf, clf__random_state=42; total time=   0.4s\n",
      "[CV 4/5] END clf__C=1000000.0, clf__gamma=0.001, clf__kernel=rbf, clf__random_state=42; total time=   0.3s\n",
      "[CV 5/5] END clf__C=1000000.0, clf__gamma=0.001, clf__kernel=rbf, clf__random_state=42; total time=   0.4s\n",
      "[CV 1/5] END clf__C=1000000.0, clf__gamma=0.001, clf__kernel=poly, clf__random_state=42; total time=   0.4s\n",
      "[CV 2/5] END clf__C=1000000.0, clf__gamma=0.001, clf__kernel=poly, clf__random_state=42; total time=   0.5s\n",
      "[CV 3/5] END clf__C=1000000.0, clf__gamma=0.001, clf__kernel=poly, clf__random_state=42; total time=   1.2s\n",
      "[CV 4/5] END clf__C=1000000.0, clf__gamma=0.001, clf__kernel=poly, clf__random_state=42; total time=   0.5s\n",
      "[CV 5/5] END clf__C=1000000.0, clf__gamma=0.001, clf__kernel=poly, clf__random_state=42; total time=   0.7s\n",
      "[CV 1/5] END clf__C=1000000.0, clf__gamma=0.01, clf__kernel=sigmoid, clf__random_state=42; total time=   0.6s\n",
      "[CV 2/5] END clf__C=1000000.0, clf__gamma=0.01, clf__kernel=sigmoid, clf__random_state=42; total time=   0.4s\n",
      "[CV 3/5] END clf__C=1000000.0, clf__gamma=0.01, clf__kernel=sigmoid, clf__random_state=42; total time=   0.4s\n",
      "[CV 4/5] END clf__C=1000000.0, clf__gamma=0.01, clf__kernel=sigmoid, clf__random_state=42; total time=   0.3s\n",
      "[CV 5/5] END clf__C=1000000.0, clf__gamma=0.01, clf__kernel=sigmoid, clf__random_state=42; total time=   0.6s\n",
      "[CV 1/5] END clf__C=1000000.0, clf__gamma=0.01, clf__kernel=rbf, clf__random_state=42; total time=   0.3s\n",
      "[CV 2/5] END clf__C=1000000.0, clf__gamma=0.01, clf__kernel=rbf, clf__random_state=42; total time=   0.4s\n",
      "[CV 3/5] END clf__C=1000000.0, clf__gamma=0.01, clf__kernel=rbf, clf__random_state=42; total time=   0.4s\n",
      "[CV 4/5] END clf__C=1000000.0, clf__gamma=0.01, clf__kernel=rbf, clf__random_state=42; total time=   0.4s\n",
      "[CV 5/5] END clf__C=1000000.0, clf__gamma=0.01, clf__kernel=rbf, clf__random_state=42; total time=   0.4s\n",
      "[CV 1/5] END clf__C=1000000.0, clf__gamma=0.01, clf__kernel=poly, clf__random_state=42; total time=   0.4s\n",
      "[CV 2/5] END clf__C=1000000.0, clf__gamma=0.01, clf__kernel=poly, clf__random_state=42; total time=   0.4s\n",
      "[CV 3/5] END clf__C=1000000.0, clf__gamma=0.01, clf__kernel=poly, clf__random_state=42; total time=   0.4s\n",
      "[CV 4/5] END clf__C=1000000.0, clf__gamma=0.01, clf__kernel=poly, clf__random_state=42; total time=   0.4s\n",
      "[CV 5/5] END clf__C=1000000.0, clf__gamma=0.01, clf__kernel=poly, clf__random_state=42; total time=   0.4s\n",
      "[CV 1/5] END clf__C=1000000.0, clf__gamma=0.1, clf__kernel=sigmoid, clf__random_state=42; total time=   0.4s\n",
      "[CV 2/5] END clf__C=1000000.0, clf__gamma=0.1, clf__kernel=sigmoid, clf__random_state=42; total time=   0.3s\n",
      "[CV 3/5] END clf__C=1000000.0, clf__gamma=0.1, clf__kernel=sigmoid, clf__random_state=42; total time=   0.4s\n"
     ]
    },
    {
     "name": "stdout",
     "output_type": "stream",
     "text": [
      "[CV 4/5] END clf__C=1000000.0, clf__gamma=0.1, clf__kernel=sigmoid, clf__random_state=42; total time=   0.3s\n",
      "[CV 5/5] END clf__C=1000000.0, clf__gamma=0.1, clf__kernel=sigmoid, clf__random_state=42; total time=   0.4s\n",
      "[CV 1/5] END clf__C=1000000.0, clf__gamma=0.1, clf__kernel=rbf, clf__random_state=42; total time=   0.4s\n",
      "[CV 2/5] END clf__C=1000000.0, clf__gamma=0.1, clf__kernel=rbf, clf__random_state=42; total time=   0.4s\n",
      "[CV 3/5] END clf__C=1000000.0, clf__gamma=0.1, clf__kernel=rbf, clf__random_state=42; total time=   0.4s\n",
      "[CV 4/5] END clf__C=1000000.0, clf__gamma=0.1, clf__kernel=rbf, clf__random_state=42; total time=   0.3s\n",
      "[CV 5/5] END clf__C=1000000.0, clf__gamma=0.1, clf__kernel=rbf, clf__random_state=42; total time=   0.4s\n",
      "[CV 1/5] END clf__C=1000000.0, clf__gamma=0.1, clf__kernel=poly, clf__random_state=42; total time=   0.4s\n",
      "[CV 2/5] END clf__C=1000000.0, clf__gamma=0.1, clf__kernel=poly, clf__random_state=42; total time=   0.4s\n",
      "[CV 3/5] END clf__C=1000000.0, clf__gamma=0.1, clf__kernel=poly, clf__random_state=42; total time=   0.9s\n",
      "[CV 4/5] END clf__C=1000000.0, clf__gamma=0.1, clf__kernel=poly, clf__random_state=42; total time=   0.4s\n",
      "[CV 5/5] END clf__C=1000000.0, clf__gamma=0.1, clf__kernel=poly, clf__random_state=42; total time=   0.3s\n",
      "[CV 1/5] END clf__C=10, clf__gamma=0.001, clf__kernel=sigmoid, clf__random_state=42; total time=   0.3s\n",
      "[CV 2/5] END clf__C=10, clf__gamma=0.001, clf__kernel=sigmoid, clf__random_state=42; total time=   0.3s\n",
      "[CV 3/5] END clf__C=10, clf__gamma=0.001, clf__kernel=sigmoid, clf__random_state=42; total time=   0.4s\n",
      "[CV 4/5] END clf__C=10, clf__gamma=0.001, clf__kernel=sigmoid, clf__random_state=42; total time=   0.4s\n",
      "[CV 5/5] END clf__C=10, clf__gamma=0.001, clf__kernel=sigmoid, clf__random_state=42; total time=   0.4s\n",
      "[CV 1/5] END clf__C=10, clf__gamma=0.001, clf__kernel=rbf, clf__random_state=42; total time=   0.4s\n",
      "[CV 2/5] END clf__C=10, clf__gamma=0.001, clf__kernel=rbf, clf__random_state=42; total time=   0.3s\n",
      "[CV 3/5] END clf__C=10, clf__gamma=0.001, clf__kernel=rbf, clf__random_state=42; total time=   0.3s\n",
      "[CV 4/5] END clf__C=10, clf__gamma=0.001, clf__kernel=rbf, clf__random_state=42; total time=   0.4s\n",
      "[CV 5/5] END clf__C=10, clf__gamma=0.001, clf__kernel=rbf, clf__random_state=42; total time=   0.3s\n",
      "[CV 1/5] END clf__C=10, clf__gamma=0.001, clf__kernel=poly, clf__random_state=42; total time=   0.3s\n",
      "[CV 2/5] END clf__C=10, clf__gamma=0.001, clf__kernel=poly, clf__random_state=42; total time=   0.3s\n",
      "[CV 3/5] END clf__C=10, clf__gamma=0.001, clf__kernel=poly, clf__random_state=42; total time=   0.3s\n",
      "[CV 4/5] END clf__C=10, clf__gamma=0.001, clf__kernel=poly, clf__random_state=42; total time=   0.3s\n",
      "[CV 5/5] END clf__C=10, clf__gamma=0.001, clf__kernel=poly, clf__random_state=42; total time=   0.3s\n",
      "[CV 1/5] END clf__C=10, clf__gamma=0.01, clf__kernel=sigmoid, clf__random_state=42; total time=   0.3s\n",
      "[CV 2/5] END clf__C=10, clf__gamma=0.01, clf__kernel=sigmoid, clf__random_state=42; total time=   0.3s\n",
      "[CV 3/5] END clf__C=10, clf__gamma=0.01, clf__kernel=sigmoid, clf__random_state=42; total time=   0.3s\n",
      "[CV 4/5] END clf__C=10, clf__gamma=0.01, clf__kernel=sigmoid, clf__random_state=42; total time=   0.3s\n",
      "[CV 5/5] END clf__C=10, clf__gamma=0.01, clf__kernel=sigmoid, clf__random_state=42; total time=   0.3s\n",
      "[CV 1/5] END clf__C=10, clf__gamma=0.01, clf__kernel=rbf, clf__random_state=42; total time=   0.3s\n",
      "[CV 2/5] END clf__C=10, clf__gamma=0.01, clf__kernel=rbf, clf__random_state=42; total time=   0.3s\n",
      "[CV 3/5] END clf__C=10, clf__gamma=0.01, clf__kernel=rbf, clf__random_state=42; total time=   0.3s\n",
      "[CV 4/5] END clf__C=10, clf__gamma=0.01, clf__kernel=rbf, clf__random_state=42; total time=   0.3s\n",
      "[CV 5/5] END clf__C=10, clf__gamma=0.01, clf__kernel=rbf, clf__random_state=42; total time=   0.3s\n",
      "[CV 1/5] END clf__C=10, clf__gamma=0.01, clf__kernel=poly, clf__random_state=42; total time=   0.3s\n",
      "[CV 2/5] END clf__C=10, clf__gamma=0.01, clf__kernel=poly, clf__random_state=42; total time=   0.3s\n",
      "[CV 3/5] END clf__C=10, clf__gamma=0.01, clf__kernel=poly, clf__random_state=42; total time=   0.3s\n",
      "[CV 4/5] END clf__C=10, clf__gamma=0.01, clf__kernel=poly, clf__random_state=42; total time=   0.3s\n",
      "[CV 5/5] END clf__C=10, clf__gamma=0.01, clf__kernel=poly, clf__random_state=42; total time=   0.3s\n",
      "[CV 1/5] END clf__C=10, clf__gamma=0.1, clf__kernel=sigmoid, clf__random_state=42; total time=   0.2s\n",
      "[CV 2/5] END clf__C=10, clf__gamma=0.1, clf__kernel=sigmoid, clf__random_state=42; total time=   0.3s\n",
      "[CV 3/5] END clf__C=10, clf__gamma=0.1, clf__kernel=sigmoid, clf__random_state=42; total time=   0.4s\n",
      "[CV 4/5] END clf__C=10, clf__gamma=0.1, clf__kernel=sigmoid, clf__random_state=42; total time=   0.4s\n",
      "[CV 5/5] END clf__C=10, clf__gamma=0.1, clf__kernel=sigmoid, clf__random_state=42; total time=   0.3s\n",
      "[CV 1/5] END clf__C=10, clf__gamma=0.1, clf__kernel=rbf, clf__random_state=42; total time=   0.3s\n",
      "[CV 2/5] END clf__C=10, clf__gamma=0.1, clf__kernel=rbf, clf__random_state=42; total time=   0.4s\n",
      "[CV 3/5] END clf__C=10, clf__gamma=0.1, clf__kernel=rbf, clf__random_state=42; total time=   0.4s\n",
      "[CV 4/5] END clf__C=10, clf__gamma=0.1, clf__kernel=rbf, clf__random_state=42; total time=   0.4s\n",
      "[CV 5/5] END clf__C=10, clf__gamma=0.1, clf__kernel=rbf, clf__random_state=42; total time=   0.4s\n",
      "[CV 1/5] END clf__C=10, clf__gamma=0.1, clf__kernel=poly, clf__random_state=42; total time=   0.6s\n",
      "[CV 2/5] END clf__C=10, clf__gamma=0.1, clf__kernel=poly, clf__random_state=42; total time=   0.4s\n",
      "[CV 3/5] END clf__C=10, clf__gamma=0.1, clf__kernel=poly, clf__random_state=42; total time=   0.4s\n",
      "[CV 4/5] END clf__C=10, clf__gamma=0.1, clf__kernel=poly, clf__random_state=42; total time=   0.4s\n",
      "[CV 5/5] END clf__C=10, clf__gamma=0.1, clf__kernel=poly, clf__random_state=42; total time=   0.4s\n",
      "{'clf__C': 1000, 'clf__gamma': 0.001, 'clf__kernel': 'sigmoid', 'clf__random_state': 42}\n",
      "les résultats obtenus pour les métriques sont : \n",
      "              precision    recall  f1-score   support\n",
      "\n",
      "           0       0.85      0.74      0.79       202\n",
      "           1       0.85      0.92      0.89       332\n",
      "\n",
      "    accuracy                           0.85       534\n",
      "   macro avg       0.85      0.83      0.84       534\n",
      "weighted avg       0.85      0.85      0.85       534\n",
      "\n",
      "AUC :  0.930320291065251\n"
     ]
    }
   ],
   "source": [
    "#pour améliorer le modèle on fait une gridSearch sur ses paramètre, \n",
    "#afin de trouver quel sont les meilleur paramètre pour optimiser le modèle\n",
    "tuned_parameters = { \n",
    "    \"clf__kernel\": [\"sigmoid\",\"rbf\",\"poly\"],\n",
    "    \"clf__C\" : [1000,10e5,10],\n",
    "    \"clf__gamma\" : [0.001,10e-3,0.1],\n",
    "    \"clf__random_state\":[42]}\n",
    "clf = GridSearchCV(\n",
    "        modele, tuned_parameters, n_jobs=1, verbose=3)\n",
    "clf.fit(X_train, y_train)\n",
    "\n",
    "parametre_optimale = clf.best_params_\n",
    "print(parametre_optimale)\n",
    "\n",
    "print(\"les résultats obtenus pour les métriques sont : \")\n",
    "y_pred=modele.predict(X_test)\n",
    "print(classification_report(y_test, y_pred,zero_division=1))\n",
    "y_pred2=clf.decision_function(X_test)\n",
    "roc_score=roc_auc_score(y_test,y_pred2)\n",
    "print(\"AUC : \",roc_score)\n"
   ]
  },
  {
   "cell_type": "code",
   "execution_count": 51,
   "metadata": {},
   "outputs": [
    {
     "name": "stdout",
     "output_type": "stream",
     "text": [
      "Pipeline(steps=[('tfidf', TfidfVectorizer()),\n",
      "                ('clf', SVC(C=1000, gamma=0.001))])\n",
      "{'clf__C': 1000, 'clf__gamma': 0.001, 'clf__kernel': 'sigmoid', 'clf__random_state': 42}\n"
     ]
    }
   ],
   "source": [
    "print(modele)\n",
    "print(parametre_optimale)"
   ]
  },
  {
   "cell_type": "code",
   "execution_count": 56,
   "metadata": {},
   "outputs": [
    {
     "name": "stdout",
     "output_type": "stream",
     "text": [
      "              precision    recall  f1-score   support\n",
      "\n",
      "           0       0.84      0.75      0.80       202\n",
      "           1       0.86      0.92      0.89       332\n",
      "\n",
      "    accuracy                           0.85       534\n",
      "   macro avg       0.85      0.83      0.84       534\n",
      "weighted avg       0.85      0.85      0.85       534\n",
      "\n",
      "AUC :  0.834068949063581\n",
      "AUC avec y_pred2 :  0.930320291065251\n"
     ]
    }
   ],
   "source": [
    "#on voit ci-dessu les meilleur paramètre\n",
    "#on peut donc créer une nouvelle pipeline en se basant dessus\n",
    "#pour améliorer le modèle\n",
    "\n",
    "modele_opti = Pipeline(steps=[('tfidf', TfidfVectorizer()),\n",
    "                ('clf', SVC(C=1000, kernel=\"sigmoid\", gamma=0.001, random_state = 42))])\n",
    "\n",
    "modele_opti.fit(X_train, y_train)\n",
    "y_pred = modele_opti.predict(X_test)\n",
    "roc_score_1 = roc_auc_score(y_test, y_pred)\n",
    "print(classification_report(y_test, y_pred,zero_division=1))\n",
    "roc_score_2 = roc_auc_score(y_test, y_pred2)\n",
    "\n",
    "print (\"AUC : \", roc_score_1)\n",
    "print(\"AUC avec y_pred2 : \", roc_score_2)\n",
    "\n",
    "\n",
    "\n"
   ]
  },
  {
   "cell_type": "code",
   "execution_count": 57,
   "metadata": {},
   "outputs": [],
   "source": [
    "#on peut voir que l'auc est amélioré, et qu'avec\n",
    "#la fonction de decision, on optien un score de 0,93"
   ]
  },
  {
   "cell_type": "code",
   "execution_count": 58,
   "metadata": {},
   "outputs": [
    {
     "data": {
      "text/plain": [
       "['pipeline_optimiser.joblib']"
      ]
     },
     "execution_count": 58,
     "metadata": {},
     "output_type": "execute_result"
    }
   ],
   "source": [
    "#sauvegarde de la nouvelle pipeline dans un nouveau fichier joblib\n",
    "dump(modele_opti, \"pipeline_optimiser.joblib\")"
   ]
  },
  {
   "cell_type": "code",
   "execution_count": null,
   "metadata": {},
   "outputs": [],
   "source": []
  }
 ],
 "metadata": {
  "kernelspec": {
   "display_name": "Python 3",
   "language": "python",
   "name": "python3"
  },
  "language_info": {
   "codemirror_mode": {
    "name": "ipython",
    "version": 3
   },
   "file_extension": ".py",
   "mimetype": "text/x-python",
   "name": "python",
   "nbconvert_exporter": "python",
   "pygments_lexer": "ipython3",
   "version": "3.7.6"
  }
 },
 "nbformat": 4,
 "nbformat_minor": 4
}
